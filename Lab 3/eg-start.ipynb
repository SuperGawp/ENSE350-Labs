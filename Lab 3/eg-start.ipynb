{
 "cells": [
  {
   "cell_type": "markdown",
   "id": "whole-martial",
   "metadata": {},
   "source": [
    "<center>\n",
    "\n",
    "## ENSE 350 – Math Programming for Software Engineers - Laboratory\n",
    "\n",
    "# Lab 3: RSA Cryptosystem\n",
    "\n",
    "### University of Regina\n",
    "### Faculty of Engineering and Applied Science - Software Systems Engineering\n",
    "### Lab Instructor: [Adam Tilson](mailto:Adam.Tilson@uregina.ca)\n",
    "\n",
    "</center>"
   ]
  },
  {
   "cell_type": "markdown",
   "id": "outstanding-challenge",
   "metadata": {},
   "source": [
    "### Part 1: Object-Oriented Programming Review"
   ]
  },
  {
   "cell_type": "markdown",
   "id": "freelance-adapter",
   "metadata": {},
   "source": [
    "In this example we will implement a simple \"Right Triangle\" class to demonstrate how object oriented programming works in python."
   ]
  },
  {
   "cell_type": "code",
   "execution_count": 6,
   "id": "structured-notice",
   "metadata": {},
   "outputs": [
    {
     "data": {
      "text/plain": [
       "TestResults(failed=0, attempted=5)"
      ]
     },
     "execution_count": 6,
     "metadata": {},
     "output_type": "execute_result"
    }
   ],
   "source": [
    "import math\n",
    "\n",
    "# Utility function\n",
    "def get_distance (coord_a, coord_b):\n",
    "    \"\"\"Find the distance between two cartesian coordinates\n",
    "    \"\"\"\n",
    "    pass\n",
    "\n",
    "class RightTriangle:\n",
    "    \"\"\"This class represents a right triangle\n",
    "    Add the following doctests...\n",
    "    \n",
    "    Creating the triangle with vertices: (0,0), (0,3) and (4,0)\n",
    "    \n",
    "    Getting the hypotenuse for the for the previous triangle\n",
    "    \n",
    "    Getting the perimeter\n",
    "    \n",
    "    Creating a failed triangle with coordinates (0,0), (1,2) and (2,1) should raise a value error\n",
    "\n",
    "    \"\"\"\n",
    "\n",
    "    # __init__ is the constructor function\n",
    "    def __init__ (self, coord_a, coord_b, coord_c):\n",
    "        # check if the coordinates consitute a right triangle, otherwise raise a ValueError\n",
    "        pass\n",
    "    \n",
    "    def get_hypotenuse (self):\n",
    "        pass\n",
    "    \n",
    "    def get_perimeter (self):\n",
    "        pass\n",
    "        \n",
    "import doctest\n",
    "doctest.testmod()"
   ]
  },
  {
   "cell_type": "markdown",
   "id": "buried-timothy",
   "metadata": {},
   "source": [
    "### Part 2: RSA Cryptosystem Overview"
   ]
  },
  {
   "cell_type": "markdown",
   "id": "induced-pleasure",
   "metadata": {},
   "source": [
    "The following communications diagram describes the architecture we will use in the lab assignment. The order of operations which would need to occur are labeled on the arrows. The arrows show which objects are calling functions on which other objects.\n",
    "\n",
    "![](res/comms.png)"
   ]
  },
  {
   "cell_type": "markdown",
   "id": "global-johnston",
   "metadata": {},
   "source": [
    "### Part 3: RSA Cryptosystem Setup"
   ]
  },
  {
   "cell_type": "markdown",
   "id": "cooperative-european",
   "metadata": {},
   "source": [
    "- The generator creates a public key and a private key as follows\n",
    "  1. Generate two distinct primes, $p$, $q$. These must be kept secret.\n",
    "  2. Let $n = pq, \\phi(n) = (p-1)(q-1)$\n",
    "  3. Select an integer $e$ such that $\\text{gcd}(e, \\phi(n)) = 1$\n",
    "    - The public key pair $(e,n)$ should be widely distributed\n",
    "  4. Compute $d$ such that $de \\equiv 1 (\\text{mod } \\phi(n))$\n",
    "    - This can be done using the pulverizer\n",
    "    - The private key pair $(d,n)$ must be kept secret!"
   ]
  },
  {
   "cell_type": "markdown",
   "id": "inside-literature",
   "metadata": {},
   "source": [
    "### Part 4: RSA Crytposystem Encryption / Decryption"
   ]
  },
  {
   "cell_type": "markdown",
   "id": "bulgarian-praise",
   "metadata": {},
   "source": [
    "Encoding:\n",
    "\n",
    "- Given a message, $m$, the sender first checks that $\\text{gcd}(m,n) = 1$\n",
    "- The sender encrypts message $m$ to produce $m'$ using the public key:\n",
    "\n",
    "  - $m' = \\text{rem }(m^e, n))$\n",
    "  - $m^e \\equiv m' (\\text{mod } n)$\n",
    "  \n",
    "Decoding:\n",
    "\n",
    "- The receiver decrypts message, $m'$ back to message $m$ using the secret key:\n",
    "  - $m = \\text{rem}((m')^d,n)$\n",
    "  - $(m')^d \\equiv m (\\text{mod }n)$\n",
    "  \n",
    "Because taking large powers is computationally intensive, we instead use `Repeated Squares`"
   ]
  },
  {
   "cell_type": "markdown",
   "id": "maritime-organ",
   "metadata": {},
   "source": [
    "### Part 5: Full Example\n",
    "\n",
    "We'll work through this on the board!"
   ]
  },
  {
   "cell_type": "code",
   "execution_count": null,
   "id": "sound-second",
   "metadata": {},
   "outputs": [],
   "source": []
  }
 ],
 "metadata": {
  "kernelspec": {
   "display_name": "Python 3",
   "language": "python",
   "name": "python3"
  },
  "language_info": {
   "codemirror_mode": {
    "name": "ipython",
    "version": 3
   },
   "file_extension": ".py",
   "mimetype": "text/x-python",
   "name": "python",
   "nbconvert_exporter": "python",
   "pygments_lexer": "ipython3",
   "version": "3.9.7"
  },
  "vscode": {
   "interpreter": {
    "hash": "8100bb27ef6f27bb6b63ba202e13f32f0dffed430e6a4d162d3986e448f218b2"
   }
  }
 },
 "nbformat": 4,
 "nbformat_minor": 5
}
