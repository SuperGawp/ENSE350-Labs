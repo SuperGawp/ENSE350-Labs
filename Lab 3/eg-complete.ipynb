{
 "cells": [
  {
   "cell_type": "markdown",
   "id": "whole-martial",
   "metadata": {},
   "source": [
    "<center>\n",
    "\n",
    "## ENSE 350 – Math Programming for Software Engineers - Laboratory\n",
    "\n",
    "# Lab 3: RSA Cryptosystem\n",
    "\n",
    "### University of Regina\n",
    "### Faculty of Engineering and Applied Science - Software Systems Engineering\n",
    "### Lab Instructor: [Adam Tilson](mailto:Adam.Tilson@uregina.ca)\n",
    "\n",
    "</center>"
   ]
  },
  {
   "cell_type": "markdown",
   "id": "loaded-world",
   "metadata": {},
   "source": [
    "### Part 1: Object-Oriented Programming Review"
   ]
  },
  {
   "cell_type": "code",
   "execution_count": 6,
   "id": "structured-notice",
   "metadata": {},
   "outputs": [
    {
     "data": {
      "text/plain": [
       "TestResults(failed=0, attempted=5)"
      ]
     },
     "execution_count": 6,
     "metadata": {},
     "output_type": "execute_result"
    }
   ],
   "source": [
    "import math\n",
    "\n",
    "# Utility function\n",
    "def get_distance (coord_a, coord_b):\n",
    "    \"\"\"Find the distance between two cartesian coordinates\n",
    "    >>> get_distance ((0,1), (0,0))\n",
    "    1.0\n",
    "    \"\"\"\n",
    "    return math.sqrt((coord_a[0] - coord_b[0]) ** 2 + (coord_a[1] - coord_b[1]) ** 2)\n",
    "\n",
    "class RightTriangle:\n",
    "    \"\"\"This class represents a right triangle\n",
    "    Add the following doctests...\n",
    "    \n",
    "    Creating the triangle with vertices: (0,0), (0,3) and (4,0)\n",
    "    >>> right_triangle = RightTriangle((0,0), (0,3), (4,0))\n",
    "    \n",
    "    Getting the hypotenuse for the for the previous triangle\n",
    "    >>> right_triangle.get_hypotenuse()\n",
    "    5.0\n",
    "    \n",
    "    Getting the perimeter\n",
    "    >>> right_triangle.get_perimeter()\n",
    "    12.0\n",
    "    \n",
    "    Creating a failed triangle with coordinates (0,0), (1,2) and (2,1) should raise a value error\n",
    "    >>> fail_triangle = RightTriangle((0,0), (1,2), (2,1))\n",
    "    Traceback (most recent call last):\n",
    "        ...\n",
    "    ValueError: Not a right triangle\n",
    "\n",
    "    \"\"\"\n",
    "    \n",
    "    # __init__ is the constructor function\n",
    "    def __init__ (self, coord_a, coord_b, coord_c):\n",
    "        \n",
    "        # check if the coordinates consitute a right triangle, otherwise throw an error\n",
    "        \n",
    "        self.coord_a = coord_a\n",
    "        self.coord_b = coord_b\n",
    "        self.coord_c = coord_c\n",
    "        \n",
    "        self.side_lengths = []\n",
    "        self.side_lengths.append (get_distance (coord_a, coord_b))\n",
    "        self.side_lengths.append (get_distance (coord_a, coord_c))\n",
    "        self.side_lengths.append (get_distance (coord_b, coord_c))\n",
    "        \n",
    "        self.side_lengths.sort()\n",
    "        \n",
    "        if self.side_lengths[0] **2 + self.side_lengths[1] ** 2 - self.side_lengths[2] ** 2 > 0.0001:\n",
    "            raise ValueError(\"Not a right triangle\")\n",
    "    \n",
    "    def get_hypotenuse (self):\n",
    "        return self.side_lengths[-1]\n",
    "    \n",
    "    def get_perimeter (self):\n",
    "        perimeter = 0\n",
    "        for side_length in self.side_lengths:\n",
    "            perimeter += side_length\n",
    "        return perimeter\n",
    "        \n",
    "import doctest\n",
    "doctest.testmod()"
   ]
  },
  {
   "cell_type": "markdown",
   "id": "precise-fashion",
   "metadata": {},
   "source": [
    "### Part 2: RSA Cryptosystem Overview"
   ]
  },
  {
   "cell_type": "markdown",
   "id": "freelance-adapter",
   "metadata": {},
   "source": [
    "In this example we will implement a simple \"Right Triangle\" class to demonstrate how object oriented programming works in python."
   ]
  },
  {
   "cell_type": "markdown",
   "id": "biblical-fusion",
   "metadata": {},
   "source": [
    "The following communications diagram describes the architecture we will use in the lab assignment. The order of operations which would need to occur are labeled on the arrows. The arrows show which objects are calling functions on which other objects.\n",
    "\n",
    "![](res/comms.png)"
   ]
  },
  {
   "cell_type": "markdown",
   "id": "amateur-tomorrow",
   "metadata": {},
   "source": [
    "### Part 3: RSA Cryptosystem Setup"
   ]
  },
  {
   "cell_type": "markdown",
   "id": "intense-suffering",
   "metadata": {},
   "source": [
    "- The generator creates a public key and a private key as follows\n",
    "  1. Generate two distinct primes, $p$, $q$. These must be kept secret.\n",
    "  2. Let $n = pq, \\phi(n) = (p-1)(q-1)$\n",
    "  3. Select an integer $e$ such that $\\text{gcd}(e, \\phi(n)) = 1$\n",
    "    - The public key pair $(e,n)$ should be widely distributed\n",
    "  4. Compute $d$ such that $de \\equiv 1 (\\text{mod } \\phi(n))$\n",
    "    - This can be done using the pulverizer\n",
    "    - The private key pair $(d,n)$ must be kept secret!"
   ]
  },
  {
   "cell_type": "markdown",
   "id": "static-piano",
   "metadata": {},
   "source": [
    "### Part 4: RSA Crytposystem Encryption / Decryption"
   ]
  },
  {
   "cell_type": "markdown",
   "id": "simple-proceeding",
   "metadata": {},
   "source": [
    "Encoding:\n",
    "\n",
    "- Given a message, $m$, the sender first checks that $\\text{gcd}(m,n) = 1$\n",
    "- The sender encrypts message $m$ to produce $m'$ using the public key:\n",
    "\n",
    "  - $m' = \\text{rem }(m^e, n))$\n",
    "  - $m^e \\equiv m' (\\text{mod } n)$\n",
    "  \n",
    "Decoding:\n",
    "\n",
    "- The receiver decrypts message, $m'$ back to message $m$ using the secret key:\n",
    "  - $m = \\text{rem}((m')^d,n)$\n",
    "  - $(m')^d \\equiv m (\\text{mod }n)$\n",
    "  \n",
    "Because taking large powers is computationally intensive, we instead use `Repeated Squares`"
   ]
  },
  {
   "cell_type": "markdown",
   "id": "delayed-coffee",
   "metadata": {},
   "source": [
    "### Part 5: Full Example\n",
    "\n",
    "1 Initial Setup:\n",
    "- Let $p = 7$\n",
    "- Let $q = 19$\n",
    "- $n = p \\cdot q = 7 \\cdot 19 = 133$\n",
    "- $\\phi(n) = (7-1) \\cdot (19-1) = 6 \\cdot 18 = 108$\n",
    "\n",
    "2 Public Key Generation:\n",
    "- Let $e = 17$, (given. $e$ must be relatively prime to $\\phi(n)$)\n",
    "- public key = $(17, 133)$\n",
    "\n",
    "3 Private Key Generation (Pulverizer)\n",
    "- $e \\cdot d \\equiv e \\cdot d \\equiv 1 (\\text{mod }\\phi(n))$\n",
    "- $k \\cdot \\phi(n) + e \\cdot d \\equiv 1 (\\text{mod }\\phi(n)), k \\in \\mathbb{Z}$\n",
    "- $k \\cdot \\phi(n) + d \\cdot 17 \\equiv  1 (\\text{mod }\\phi(n))$\n",
    "\n",
    "This is similar to the outcome of the pulverizer:\n",
    "- $s \\cdot a + t \\cdot b \\equiv 1 (\\text{mod } \\phi(n))$\n",
    "\n",
    "Where:\n",
    "- $s = k$\n",
    "- $a = \\phi(n) = 108$, \n",
    "- $d=t$\n",
    "- $e=17$\n",
    "* We are looking for $t$. We don't really care about $s$\n",
    "\n",
    "- Pulverizer $(108, 17)$\n",
    "\n",
    "|$x$|$y$|$q$|$r$|$r = x-q \\cdot y$|$s$|$t$|\n",
    "|---|---|---|---|---|---|---|\n",
    "|$108$|$17$|$6$|$6$ |$6 = 108 - 6 \\cdot 17$|$1$|$-6$|\n",
    "|$17$|$6$|$2$|$5$ |$5 = 17 - 2 \\cdot 6$|||\n",
    "|||||$5 = -2 \\cdot 108 + 13 \\cdot 17$|$-2$|$13$|\n",
    "|$6$|$5$|$1$|$1$|$1 = 6 - 1 \\cdot 5$|||\n",
    "|||||$1 = 3 \\cdot 108 - 19 \\cdot 17$|$3$|$-19$|\n",
    "\n",
    "$1 = 3 \\cdot 108 - 19 \\cdot 17$\n",
    "\n",
    "$-19$ is our value for $d$. inverse. But we want our inverse to be positive!\n",
    "\n",
    "Since we don't care about $s$, can we add or subtract some value to make it positive, taking it out of s? \n",
    "\n",
    "- $1 = 3 \\cdot 108 - 19 \\cdot 17$\n",
    "\n",
    "- $1 = sa + tb$\n",
    "- $1 = (sa + tb) + k(ba - ab), k \\in \\mathbb{Z}, k \\geq = 1$\n",
    "\n",
    "- $1 = 3 \\cdot 108   - 19 \\cdot 17 + 1 \\cdot (-17 \\cdot 108  + 108 \\cdot 17)$\n",
    "- $1 = -14 \\cdot 108 + 89 \\cdot 17$\n",
    "\n",
    "Note, we can adjust k until we have a positive value\n",
    "\n",
    "$89$ is our positive inverse, the private key is $d=(89, 133)$\n",
    "\n",
    "4 Encryption, m=`h`$=104$\n",
    "- $m'=104^{17} (\\text{mod }133)$\n",
    "- Use repeated squaring...\n",
    "- $104 \\equiv 104 (\\text{mod }133)$\n",
    "- $104^2 \\equiv 43 (\\text{mod }133)$\n",
    "- $104^4 \\equiv 120 (\\text{mod }133)$\n",
    "- $104^8 \\equiv 36 (\\text{mod }133)$\n",
    "- $104^{16} \\equiv 99 (\\text{mod }133)$\n",
    "- $104^{17} = 104 \\cdot 104^{16} \\equiv 104 \\cdot 99 (\\text{mod }133) \\equiv 55 (\\text{mod }133)$\n",
    "- Our encrypted message is $m' = 55$\n",
    "\n",
    "5 Decryption, $m'=55$\n",
    "- $m=55^{89} (\\text{mod }133)$\n",
    "- Use repeated squaring...\n",
    "- $55 \\equiv 55 (\\text{mod }133)$\n",
    "- $55^{2} \\equiv 99 (\\text{mod }133)$\n",
    "- $55^{4} \\equiv 92 (\\text{mod }133)$\n",
    "- $55^{8} \\equiv 85 (\\text{mod }133)$\n",
    "- $55^{16} \\equiv 43 (\\text{mod }133)$\n",
    "- $55^{32} \\equiv 120 (\\text{mod }133)$\n",
    "- $55^{64} \\equiv 36 (\\text{mod }133)$\n",
    "\n",
    "$55^{89} = 55^{64}\\cdot 55^{16}\\cdot 55^{8} \\cdot 55^{1} \\equiv 55 \\cdot 85 \\cdot 43 \\cdot 36 (\\text{mod } 133) \\equiv 104 (\\text{mod } 133)$\n",
    "\n",
    "See also the included spreadsheet for more info on repeated squaring."
   ]
  },
  {
   "cell_type": "code",
   "execution_count": null,
   "id": "corresponding-madrid",
   "metadata": {},
   "outputs": [],
   "source": []
  }
 ],
 "metadata": {
  "kernelspec": {
   "display_name": "Python 3",
   "language": "python",
   "name": "python3"
  },
  "language_info": {
   "codemirror_mode": {
    "name": "ipython",
    "version": 3
   },
   "file_extension": ".py",
   "mimetype": "text/x-python",
   "name": "python",
   "nbconvert_exporter": "python",
   "pygments_lexer": "ipython3",
   "version": "3.9.7"
  },
  "vscode": {
   "interpreter": {
    "hash": "8100bb27ef6f27bb6b63ba202e13f32f0dffed430e6a4d162d3986e448f218b2"
   }
  }
 },
 "nbformat": 4,
 "nbformat_minor": 5
}
