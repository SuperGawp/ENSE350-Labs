{
 "cells": [
  {
   "cell_type": "markdown",
   "id": "heated-sword",
   "metadata": {},
   "source": [
    "<center>\n",
    "\n",
    "## ENSE 350 – Math Programming for Software Engineers - Laboratory\n",
    "\n",
    "# Lab 4: L U Decomposition\n",
    "\n",
    "### University of Regina\n",
    "### Faculty of Engineering and Applied Science - Software Systems Engineering\n",
    "### Lab Instructor: [Adam Tilson](mailto:Adam.Tilson@uregina.ca)\n",
    "\n",
    "</center>"
   ]
  },
  {
   "cell_type": "markdown",
   "id": "naked-tradition",
   "metadata": {},
   "source": [
    "## Part 0: Warm Up\n",
    "\n",
    "In this section we will look in depth at lists in Python.\n",
    "\n",
    "### 1D Lists"
   ]
  },
  {
   "cell_type": "code",
   "execution_count": 1,
   "id": "different-jason",
   "metadata": {},
   "outputs": [
    {
     "name": "stdout",
     "output_type": "stream",
     "text": [
      "[1, 2, 3, 4, 5]\n"
     ]
    }
   ],
   "source": [
    "# Create a 1D list with 1,2,3,4,5\n",
    "List1D = [1, 2, 3, 4, 5]\n",
    "print(List1D)"
   ]
  },
  {
   "cell_type": "code",
   "execution_count": 2,
   "id": "quality-guide",
   "metadata": {},
   "outputs": [
    {
     "name": "stdout",
     "output_type": "stream",
     "text": [
      "1\n",
      "2\n",
      "3\n",
      "4\n",
      "5\n"
     ]
    }
   ],
   "source": [
    "# Loop through the list by value\n",
    "for listLoop in List1D:\n",
    "    print(listLoop)"
   ]
  },
  {
   "cell_type": "code",
   "execution_count": 3,
   "id": "fundamental-envelope",
   "metadata": {},
   "outputs": [
    {
     "name": "stdout",
     "output_type": "stream",
     "text": [
      "[1, 2, 3, 4, 5]\n"
     ]
    }
   ],
   "source": [
    "# Note we can't update elements in this way... \n",
    "# try adding one to each element and printing the whole list\n",
    "for listLoop in List1D:\n",
    "    listLoop += 1\n",
    "print(List1D)"
   ]
  },
  {
   "cell_type": "code",
   "execution_count": 5,
   "id": "efficient-devices",
   "metadata": {},
   "outputs": [
    {
     "name": "stdout",
     "output_type": "stream",
     "text": [
      "index: 0 value: 1\n",
      "index: 1 value: 2\n",
      "index: 2 value: 3\n",
      "index: 3 value: 4\n",
      "index: 4 value: 5\n"
     ]
    }
   ],
   "source": [
    "# Loop through the lits by index\n",
    "for index in range(len(List1D)):\n",
    "    print(\"index:\", index, \"value:\", List1D[index])"
   ]
  },
  {
   "cell_type": "code",
   "execution_count": 6,
   "id": "relative-bidding",
   "metadata": {},
   "outputs": [
    {
     "name": "stdout",
     "output_type": "stream",
     "text": [
      "index: 0 value: 2\n",
      "index: 1 value: 3\n",
      "index: 2 value: 4\n",
      "index: 3 value: 5\n",
      "index: 4 value: 6\n"
     ]
    }
   ],
   "source": [
    "# Loop through a list by index, and update the values as you go\n",
    "# by adding one to each element. print it out, did changes persist?\n",
    "for index in range(len(List1D)):\n",
    "    List1D[index] += 1\n",
    "\n",
    "for index in range(len(List1D)):\n",
    "    print(\"index:\", index, \"value:\", List1D[index])"
   ]
  },
  {
   "cell_type": "code",
   "execution_count": 13,
   "id": "medium-duration",
   "metadata": {},
   "outputs": [
    {
     "name": "stdout",
     "output_type": "stream",
     "text": [
      "index: 0 value: 4\n",
      "index: 1 value: 5\n",
      "index: 2 value: 6\n"
     ]
    }
   ],
   "source": [
    "# Loop through the second half of a sublist (slice) by index\n",
    "sublist = List1D[2:]\n",
    "\n",
    "for index in range(len(sublist)):\n",
    "    print(\"index:\", index, \"value:\", sublist[index])\n",
    "# Note that the indices no longer correspond to their locations \n",
    "# in the original list!"
   ]
  },
  {
   "cell_type": "code",
   "execution_count": 15,
   "id": "extreme-hanging",
   "metadata": {},
   "outputs": [
    {
     "name": "stdout",
     "output_type": "stream",
     "text": [
      "index: 0 value: 4\n"
     ]
    }
   ],
   "source": [
    "# Loop through the second half of a list using a custom range\n",
    "sublist = List1D[2:3]\n",
    "\n",
    "for index in range(len(sublist)):\n",
    "    print(\"index:\", index, \"value:\", sublist[index])"
   ]
  },
  {
   "cell_type": "code",
   "execution_count": 16,
   "id": "dried-austria",
   "metadata": {},
   "outputs": [
    {
     "name": "stdout",
     "output_type": "stream",
     "text": [
      "[2, 3, 4, 5, 6]\n"
     ]
    }
   ],
   "source": [
    "# Make a deep copy of the list\n",
    "import copy \n",
    "listDeepCopy = copy.deepcopy(List1D)\n",
    "print(listDeepCopy)"
   ]
  },
  {
   "cell_type": "markdown",
   "id": "alpha-warehouse",
   "metadata": {},
   "source": [
    "### 2D Lists\n",
    "\n",
    "In Python, a 2D list is represented as a list of lists. Theoretically each sublist could be of a different length, but we will not look into that in this case."
   ]
  },
  {
   "cell_type": "code",
   "execution_count": 19,
   "id": "visible-cocktail",
   "metadata": {},
   "outputs": [],
   "source": [
    "# Create a 2D Array\n",
    "arr = [[ 0,  1,  2,  3],\\\n",
    "       [10, 11, 12, 13],\\\n",
    "       [20, 21, 22, 23],\\\n",
    "       [30, 31, 32, 33]]"
   ]
  },
  {
   "cell_type": "code",
   "execution_count": 20,
   "id": "ready-aspect",
   "metadata": {},
   "outputs": [
    {
     "name": "stdout",
     "output_type": "stream",
     "text": [
      "[[0, 1, 2, 3], [10, 11, 12, 13], [20, 21, 22, 23], [30, 31, 32, 33]]\n"
     ]
    }
   ],
   "source": [
    "# Print it out\n",
    "print(arr)"
   ]
  },
  {
   "cell_type": "code",
   "execution_count": 22,
   "id": "republican-causing",
   "metadata": {},
   "outputs": [],
   "source": [
    "# Let's define a print helper to show us where we are in the array, \n",
    "# as well as the value there\n",
    "def print_val (arr, row, col):\n",
    "    print (\"row: \"+str(row) + \\\n",
    "           \"  col: \"+ str(col) + \\\n",
    "           \"  val: \" + str(arr[row][col]))"
   ]
  },
  {
   "cell_type": "code",
   "execution_count": 25,
   "id": "frozen-running",
   "metadata": {},
   "outputs": [
    {
     "name": "stdout",
     "output_type": "stream",
     "text": [
      "row: 1  col: 1  val: 11\n"
     ]
    }
   ],
   "source": [
    "print_val(arr, 1, 1)"
   ]
  },
  {
   "cell_type": "code",
   "execution_count": null,
   "id": "injured-dublin",
   "metadata": {},
   "outputs": [],
   "source": []
  },
  {
   "cell_type": "code",
   "execution_count": 27,
   "id": "radical-azerbaijan",
   "metadata": {},
   "outputs": [
    {
     "name": "stdout",
     "output_type": "stream",
     "text": [
      "row: 0  col: 0  val: 0\n",
      "row: 0  col: 1  val: 1\n",
      "row: 0  col: 2  val: 2\n",
      "row: 0  col: 3  val: 3\n",
      "row: 1  col: 0  val: 10\n",
      "row: 1  col: 1  val: 11\n",
      "row: 1  col: 2  val: 12\n",
      "row: 1  col: 3  val: 13\n",
      "row: 2  col: 0  val: 20\n",
      "row: 2  col: 1  val: 21\n",
      "row: 2  col: 2  val: 22\n",
      "row: 2  col: 3  val: 23\n",
      "row: 3  col: 0  val: 30\n",
      "row: 3  col: 1  val: 31\n",
      "row: 3  col: 2  val: 32\n",
      "row: 3  col: 3  val: 33\n"
     ]
    }
   ],
   "source": [
    "# Use our print helper to print the whole thing\n",
    "for row in range(len(arr)):\n",
    "    for col in range(len(arr)):\n",
    "        print_val(arr, row, col)"
   ]
  },
  {
   "cell_type": "code",
   "execution_count": 28,
   "id": "sublime-supply",
   "metadata": {},
   "outputs": [
    {
     "name": "stdout",
     "output_type": "stream",
     "text": [
      "row: 0  col: 0  val: 0\n",
      "row: 1  col: 1  val: 11\n",
      "row: 2  col: 2  val: 22\n",
      "row: 3  col: 3  val: 33\n"
     ]
    }
   ],
   "source": [
    "# print just the diagonal:\n",
    "# [[*, , , ]\n",
    "#  [ ,*, , ]\n",
    "#  [ , ,*, ]\n",
    "#  [ , , ,*]]\n",
    "for row in range(len(arr)):\n",
    "    for col in range(len(arr)):\n",
    "        if(row == col):\n",
    "            print_val(arr, row, col)"
   ]
  },
  {
   "cell_type": "code",
   "execution_count": 29,
   "id": "robust-roads",
   "metadata": {},
   "outputs": [
    {
     "name": "stdout",
     "output_type": "stream",
     "text": [
      "row: 0  col: 0  val: 0\n",
      "row: 1  col: 0  val: 10\n",
      "row: 1  col: 1  val: 11\n",
      "row: 2  col: 0  val: 20\n",
      "row: 2  col: 1  val: 21\n",
      "row: 2  col: 2  val: 22\n",
      "row: 3  col: 0  val: 30\n",
      "row: 3  col: 1  val: 31\n",
      "row: 3  col: 2  val: 32\n",
      "row: 3  col: 3  val: 33\n"
     ]
    }
   ],
   "source": [
    "# print the lower array up to and including the diagonal:\n",
    "# [[*, , , ]\n",
    "#  [*,*, , ]\n",
    "#  [*,*,*, ]\n",
    "#  [*,*,*,*]]\n",
    "for row in range(len(arr)):\n",
    "    for col in range(len(arr)):\n",
    "        if(row >= col):\n",
    "            print_val(arr, row, col)"
   ]
  },
  {
   "cell_type": "code",
   "execution_count": 32,
   "id": "secure-worthy",
   "metadata": {},
   "outputs": [
    {
     "name": "stdout",
     "output_type": "stream",
     "text": [
      "row: 0  col: 1  val: 1\n",
      "row: 0  col: 2  val: 2\n",
      "row: 0  col: 3  val: 3\n",
      "row: 1  col: 2  val: 12\n",
      "row: 1  col: 3  val: 13\n",
      "row: 2  col: 3  val: 23\n"
     ]
    }
   ],
   "source": [
    "# print the upper triangular portion of the array, \n",
    "# excluding the diagonals:\n",
    "# [[ ,*,*,*]\n",
    "#  [ , ,*,*]\n",
    "#  [ , , ,*]\n",
    "#  [ , , , ]]\n",
    "for row in range(len(arr)):\n",
    "    for col in range(len(arr)):\n",
    "        if(row < col):\n",
    "            print_val(arr, row, col)"
   ]
  },
  {
   "cell_type": "code",
   "execution_count": 33,
   "id": "cloudy-breeding",
   "metadata": {},
   "outputs": [
    {
     "name": "stdout",
     "output_type": "stream",
     "text": [
      "row: 2  col: 3  val: 23\n",
      "row: 1  col: 3  val: 13\n",
      "row: 1  col: 2  val: 12\n",
      "row: 0  col: 3  val: 3\n",
      "row: 0  col: 2  val: 2\n",
      "row: 0  col: 1  val: 1\n"
     ]
    }
   ],
   "source": [
    "# print the upper triangular portion of the array,\n",
    "# bottom to top,\n",
    "# right to left...\n",
    "# [[ ,*,*,*]\n",
    "#  [ , ,*,*]\n",
    "#  [ , , ,*]\n",
    "#  [ , , , ]]\n",
    "for row in reversed(range(len(arr))):\n",
    "    for col in reversed(range(len(arr))):\n",
    "        if(row < col):\n",
    "            print_val(arr, row, col)"
   ]
  },
  {
   "cell_type": "code",
   "execution_count": 35,
   "id": "distinct-violence",
   "metadata": {},
   "outputs": [
    {
     "name": "stdout",
     "output_type": "stream",
     "text": [
      "row: 3  col: 0  val: 30\n",
      "row: 3  col: 1  val: 31\n",
      "row: 3  col: 2  val: 32\n",
      "row: 3  col: 3  val: 33\n",
      "row: 2  col: 0  val: 20\n",
      "row: 2  col: 1  val: 21\n",
      "row: 2  col: 2  val: 22\n",
      "row: 1  col: 0  val: 10\n",
      "row: 1  col: 1  val: 11\n",
      "row: 0  col: 0  val: 0\n"
     ]
    }
   ],
   "source": [
    "# print the lower triangular part of the array,\n",
    "# up to and including the diagonals,\n",
    "# bottom to top, and left to right\n",
    "# [[*, , , ]\n",
    "#  [*,*, , ]\n",
    "#  [*,*,*, ]\n",
    "#  [*,*,*,*]]\n",
    "for row in reversed(range(len(arr))):\n",
    "    for col in range(len(arr)):\n",
    "        if(row >= col):\n",
    "            print_val(arr, row, col)"
   ]
  },
  {
   "cell_type": "code",
   "execution_count": 41,
   "id": "double-crash",
   "metadata": {},
   "outputs": [
    {
     "name": "stdout",
     "output_type": "stream",
     "text": [
      "row: 3 sum: 126\n",
      "row: 2 sum: 63\n",
      "row: 1 sum: 21\n",
      "row: 0 sum: 0\n"
     ]
    }
   ],
   "source": [
    "# print the sum of the rows of lower triangle of the array up to and including the diagonals:\n",
    "# print bottom to top\n",
    "# [[*, , , ]\n",
    "#  [*,*, , ]\n",
    "#  [*,*,*, ]\n",
    "#  [*,*,*,*]]\n",
    "for row in reversed(range(len(arr))):\n",
    "    add = 0\n",
    "    for col in range(len(arr)):\n",
    "        if(row >= col):\n",
    "            add += arr[row][col]\n",
    "    print(\"row: \" + str(row) + \" sum: \" + str(add))"
   ]
  },
  {
   "cell_type": "markdown",
   "id": "c92bd97c",
   "metadata": {},
   "source": [
    "## Part 2: LU Decomposition Example\n",
    "\n",
    "Let's work through a full example of LU Decomposition, finding a solution to the problem:\n",
    "\n",
    "$$7x_1 - 2x_2 + x_3 = 12$$\n",
    "$$14x_1 - 7x_2 - 3x_3 = 17$$\n",
    "$$-7x_1 + 11x_2 + 18x_3 = 5$$"
   ]
  },
  {
   "cell_type": "code",
   "execution_count": null,
   "id": "95d82c46",
   "metadata": {},
   "outputs": [],
   "source": []
  }
 ],
 "metadata": {
  "kernelspec": {
   "display_name": "Python 3 (ipykernel)",
   "language": "python",
   "name": "python3"
  },
  "language_info": {
   "codemirror_mode": {
    "name": "ipython",
    "version": 3
   },
   "file_extension": ".py",
   "mimetype": "text/x-python",
   "name": "python",
   "nbconvert_exporter": "python",
   "pygments_lexer": "ipython3",
   "version": "3.10.8"
  },
  "vscode": {
   "interpreter": {
    "hash": "8100bb27ef6f27bb6b63ba202e13f32f0dffed430e6a4d162d3986e448f218b2"
   }
  }
 },
 "nbformat": 4,
 "nbformat_minor": 5
}
