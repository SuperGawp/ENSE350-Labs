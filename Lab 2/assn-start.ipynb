{
 "cells": [
  {
   "cell_type": "markdown",
   "id": "relevant-anchor",
   "metadata": {},
   "source": [
    "<center>\n",
    "\n",
    "## ENSE 350 – Math Programming for Software Engineers - Laboratory\n",
    "\n",
    "# Lab 2: GCD and Pulverizer\n",
    "\n",
    "### University of Regina\n",
    "### Faculty of Engineering and Applied Science - Software Systems Engineering\n",
    "### Lab Instructor: [Adam Tilson](mailto:Adam.Tilson@uregina.ca)\n",
    "\n",
    "</center>"
   ]
  },
  {
   "cell_type": "markdown",
   "id": "driven-relationship",
   "metadata": {},
   "source": [
    "### Your Name:\n",
    "### SID:"
   ]
  },
  {
   "cell_type": "markdown",
   "id": "dominican-harvey",
   "metadata": {},
   "source": [
    "Part 1: Implement gcd in the following cell. "
   ]
  },
  {
   "cell_type": "code",
   "execution_count": null,
   "id": "similar-honor",
   "metadata": {},
   "outputs": [],
   "source": [
    "def gcd(a, b):\n",
    "    \"\"\"Return the gcd of integers a and b, an exact integer >= 1.\n",
    "    Use an approach which is approximately O(log_2(n))\n",
    "    >>> gcd(270, 192)\n",
    "    6\n",
    "    \"\"\"\n",
    "\n",
    "    # Your code here\n",
    "    pass\n",
    "\n",
    "import doctest\n",
    "doctest.testmod()"
   ]
  },
  {
   "cell_type": "markdown",
   "id": "latter-catalyst",
   "metadata": {},
   "source": [
    "Part 2:\n",
    "\n",
    "Solve the following problem:\n",
    "\n",
    "The following fraction:\n",
    "\n",
    "$$\\frac{11178}{59616}$$\n",
    "\n",
    "Is not reduced. \n",
    "\n",
    "Write code in the following cell calling functions you have created to compute the reduced form of this fraction."
   ]
  },
  {
   "cell_type": "code",
   "execution_count": null,
   "id": "coral-orbit",
   "metadata": {},
   "outputs": [],
   "source": []
  },
  {
   "cell_type": "markdown",
   "id": "instructional-luther",
   "metadata": {},
   "source": [
    "Part 3: Implement the following function:"
   ]
  },
  {
   "cell_type": "code",
   "execution_count": null,
   "id": "middle-practitioner",
   "metadata": {},
   "outputs": [],
   "source": [
    "def are_relatively_prime (a, b):\n",
    "    \"\"\"Returns true if integers a and b are relatively prime, \n",
    "    else returns false\n",
    "    >>> are_relatively_prime (15, 16)\n",
    "    True\n",
    "    >>> are_relatively_prime (15, 25)\n",
    "    False\n",
    "    \"\"\"\n",
    "    \n",
    "    pass"
   ]
  },
  {
   "cell_type": "markdown",
   "id": "possible-amount",
   "metadata": {},
   "source": [
    "Part 4: Implement the pulverizer in the following cell:"
   ]
  },
  {
   "cell_type": "code",
   "execution_count": null,
   "id": "fluid-baptist",
   "metadata": {},
   "outputs": [],
   "source": [
    "def pulverizer(a, b):\n",
    "    \"\"\"Return the gcd of a and b, an exact integer >= 0, \n",
    "    and s and t, the smallest coefficients for a and b\n",
    "    which satisfy the equation:\n",
    "        gcd(a,b) = sa + tb\n",
    "    >>> pulverizer(899,  493)\n",
    "    (29, -6, 11)\n",
    "    \"\"\"\n",
    "    # Your code here\n",
    "    pass\n",
    "    \n",
    "import doctest\n",
    "doctest.testmod()"
   ]
  },
  {
   "cell_type": "markdown",
   "id": "fifth-actor",
   "metadata": {},
   "source": [
    "Part 5: Answer the following question:\n",
    "    \n",
    "In ancient greece, two merchants wish to trade with eachother. One carries eggs, which have a monetary value of 27 cents, and the other carries pomegranates, which have a monetary value of 43 cents. The merchants will trade using any whole multiples of their food, for example 3 eggs for 2 pomegranates. However, this will not result in a particularly fair trade, as there will be residual value left over from this trade:\n",
    "\n",
    "$$3 \\text{ eggs} * 27 \\text{ cents} - 2 \\text{ pomegranates} * 43 \\text{ cents} = 81 - 86 = -5 \\text{ cents}$$\n",
    "\n",
    "5 cents remains as a residual between the two trades, so one merchant is getting more value than the other from this trade.\n",
    "\n",
    "Assume each merchant has a maximum of 20 items.\n",
    "\n",
    "What is the minimum amount of each food that each merchant should trade so that the residual value is as small as possible? What is this residual value?"
   ]
  },
  {
   "cell_type": "code",
   "execution_count": null,
   "id": "regular-journey",
   "metadata": {},
   "outputs": [],
   "source": []
  }
 ],
 "metadata": {
  "kernelspec": {
   "display_name": "Python 3",
   "language": "python",
   "name": "python3"
  },
  "language_info": {
   "codemirror_mode": {
    "name": "ipython",
    "version": 3
   },
   "file_extension": ".py",
   "mimetype": "text/x-python",
   "name": "python",
   "nbconvert_exporter": "python",
   "pygments_lexer": "ipython3",
   "version": "3.9.7"
  },
  "vscode": {
   "interpreter": {
    "hash": "8100bb27ef6f27bb6b63ba202e13f32f0dffed430e6a4d162d3986e448f218b2"
   }
  }
 },
 "nbformat": 4,
 "nbformat_minor": 5
}
