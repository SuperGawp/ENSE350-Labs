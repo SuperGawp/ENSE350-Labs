{
 "cells": [
  {
   "cell_type": "markdown",
   "id": "relevant-anchor",
   "metadata": {},
   "source": [
    "<center>\n",
    "\n",
    "## ENSE 350 – Math Programming for Software Engineers - Laboratory\n",
    "\n",
    "# Lab 2: GCD and Pulverizer\n",
    "\n",
    "### University of Regina\n",
    "### Faculty of Engineering and Applied tempScience - Software Systems Engineering\n",
    "### Lab Instructor: [Adam Tilson](mailto:Adam.Tilson@uregina.ca)\n",
    "\n",
    "</center>"
   ]
  },
  {
   "attachments": {},
   "cell_type": "markdown",
   "id": "driven-relationship",
   "metadata": {},
   "source": [
    "### Your Name: Aryan Chandra\n",
    "### SID: 200461690"
   ]
  },
  {
   "cell_type": "markdown",
   "id": "dominican-harvey",
   "metadata": {},
   "source": [
    "Part 1: Implement gcd in the following cell. "
   ]
  },
  {
   "cell_type": "code",
   "execution_count": 2,
   "id": "similar-honor",
   "metadata": {},
   "outputs": [
    {
     "data": {
      "text/plain": [
       "TestResults(failed=0, attempted=1)"
      ]
     },
     "execution_count": 2,
     "metadata": {},
     "output_type": "execute_result"
    }
   ],
   "source": [
    "def gcd(a, b):\n",
    "    \"\"\"Return the gcd of integers a and b, an exact integer >= 1.\n",
    "    Use an approach which is approximately O(log_2(n))\n",
    "    >>> gcd(270, 192)\n",
    "    6\n",
    "    \"\"\"\n",
    "\n",
    "    # Your code here\n",
    "    while b:\n",
    "        a, b = b, a % b\n",
    "    return a\n",
    "    pass\n",
    "\n",
    "import doctest\n",
    "doctest.testmod()"
   ]
  },
  {
   "cell_type": "markdown",
   "id": "latter-catalyst",
   "metadata": {},
   "source": [
    "Part 2:\n",
    "\n",
    "Solve the following problem:\n",
    "\n",
    "The following fraction:\n",
    "\n",
    "$$\\frac{11178}{59616}$$\n",
    "\n",
    "Is not reduced. \n",
    "\n",
    "Write code in the following cell calling functions you have created to compute the reduced form of this fraction."
   ]
  },
  {
   "cell_type": "code",
   "execution_count": 3,
   "id": "coral-orbit",
   "metadata": {},
   "outputs": [
    {
     "name": "stdout",
     "output_type": "stream",
     "text": [
      "3 / 16\n"
     ]
    }
   ],
   "source": [
    "a = 11178\n",
    "b = 59616\n",
    "divisor = gcd(a, b)\n",
    "aReduced = a // divisor\n",
    "bReduced = b // divisor\n",
    "print(aReduced, \"/\", bReduced)"
   ]
  },
  {
   "cell_type": "markdown",
   "id": "instructional-luther",
   "metadata": {},
   "source": [
    "Part 3: Implement the following function:"
   ]
  },
  {
   "cell_type": "code",
   "execution_count": 9,
   "id": "middle-practitioner",
   "metadata": {},
   "outputs": [],
   "source": [
    "def are_relatively_prime (a, b):\n",
    "    \"\"\"Returns true if integers a and b are relatively prime, \n",
    "    else returns false\n",
    "    >>> are_relatively_prime (15, 16)\n",
    "    True\n",
    "    >>> are_relatively_prime (15, 25)\n",
    "    False\n",
    "    \"\"\"\n",
    "    return gcd(a, b) == 1\n",
    "    pass"
   ]
  },
  {
   "cell_type": "markdown",
   "id": "possible-amount",
   "metadata": {},
   "source": [
    "Part 4: Implement the pulverizer in the following cell:"
   ]
  },
  {
   "cell_type": "code",
   "execution_count": 6,
   "id": "fluid-baptist",
   "metadata": {},
   "outputs": [
    {
     "data": {
      "text/plain": [
       "TestResults(failed=0, attempted=2)"
      ]
     },
     "execution_count": 6,
     "metadata": {},
     "output_type": "execute_result"
    }
   ],
   "source": [
    "def pulverizer(a, b):\n",
    "    \"\"\"Return the gcd of a and b, an exact integer >= 0, \n",
    "    and s and t, the smallest coefficients for a and b\n",
    "    which satisfy the equation:\n",
    "        gcd(a,b) = sa + tb\n",
    "    >>> pulverizer(899,  493)\n",
    "    (29, -6, 11)\n",
    "    \"\"\"\n",
    "    # Your code here\n",
    "    s, oldS = 0, 1\n",
    "    t, oldT = 1, 0\n",
    "    r, oldR = b, a\n",
    "\n",
    "    while r:\n",
    "        quotient = oldR // r\n",
    "        oldR, r = r, oldR - quotient * r\n",
    "        oldS, s = s, oldS - quotient * s\n",
    "        oldT, t = t, oldT - quotient * t\n",
    "\n",
    "    gcd = oldR\n",
    "    return gcd, oldS, oldT\n",
    "    pass\n",
    "    \n",
    "import doctest\n",
    "doctest.testmod()"
   ]
  },
  {
   "cell_type": "markdown",
   "id": "fifth-actor",
   "metadata": {},
   "source": [
    "Part 5: Answer the following question:\n",
    "    \n",
    "In ancient greece, two merchants wish to trade with eachother. One carries eggs, which have a monetary value of 27 cents, and the other carries pomegranates, which have a monetary value of 43 cents. The merchants will trade using any whole multiples of their food, for example 3 eggs for 2 pomegranates. However, this will not result in a particularly fair trade, as there will be residual value left over from this trade:\n",
    "\n",
    "$$3 \\text{ eggs} * 27 \\text{ cents} - 2 \\text{ pomegranates} * 43 \\text{ cents} = 81 - 86 = -5 \\text{ cents}$$\n",
    "\n",
    "5 cents remains as a residual between the two trades, so one merchant is getting more value than the other from this trade.\n",
    "\n",
    "Assume each merchant has a maximum of 20 items.\n",
    "\n",
    "What is the minimum amount of each food that each merchant should trade so that the residual value is as small as possible? What is this residual value?"
   ]
  },
  {
   "cell_type": "code",
   "execution_count": 22,
   "id": "c0041688",
   "metadata": {},
   "outputs": [
    {
     "name": "stdout",
     "output_type": "stream",
     "text": [
      "(1, 8, -5)\n",
      "8 eggs * 27 cents + -5 pomegranates * 43 cents = 8 eggs * 27 + -215 = 1 cents\n",
      "Residual value: 1\n",
      "Print true if this matches the result of pulverizer, if not, return false:\n",
      "True\n",
      "Therefore, the merchants need to trade 8 eggs for 5 pomegranates to have the smallest residual value possible of 1\n"
     ]
    }
   ],
   "source": [
    "priceOfEgg = 27\n",
    "priceOfPomeg = 43\n",
    "\n",
    "answer = pulverizer(priceOfEgg, priceOfPomeg)\n",
    "print(answer)\n",
    "mininumResidualPrice = answer[0]\n",
    "amountOfEggs = answer[1]\n",
    "amountOfPomegs = answer[2]\n",
    "\n",
    "print(amountOfEggs, \"eggs *\", priceOfEgg, \"cents +\", amountOfPomegs, \"pomegranates *\", priceOfPomeg, \"cents =\", amountOfEggs, \"eggs *\", priceOfEgg, \"+\", amountOfPomegs * priceOfPomeg, \"=\", amountOfEggs * priceOfEgg + amountOfPomegs * priceOfPomeg, \"cents\")\n",
    "print(\"Residual value:\", amountOfEggs * priceOfEgg + amountOfPomegs * priceOfPomeg)\n",
    "print(\"Print true if this matches the result of pulverizer, if not, return false:\")\n",
    "print(mininumResidualPrice == amountOfEggs * priceOfEgg + amountOfPomegs * priceOfPomeg)\n",
    "print(\"Therefore, the merchants need to trade\", abs(amountOfEggs), \"eggs for\", abs(amountOfPomegs), \"pomegranates to have the smallest residual value possible of\", abs(mininumResidualPrice))\n",
    "\n"
   ]
  }
 ],
 "metadata": {
  "kernelspec": {
   "display_name": "Python 3",
   "language": "python",
   "name": "python3"
  },
  "language_info": {
   "codemirror_mode": {
    "name": "ipython",
    "version": 3
   },
   "file_extension": ".py",
   "mimetype": "text/x-python",
   "name": "python",
   "nbconvert_exporter": "python",
   "pygments_lexer": "ipython3",
   "version": "3.10.8"
  },
  "vscode": {
   "interpreter": {
    "hash": "369f2c481f4da34e4445cda3fffd2e751bd1c4d706f27375911949ba6bb62e1c"
   }
  }
 },
 "nbformat": 4,
 "nbformat_minor": 5
}
