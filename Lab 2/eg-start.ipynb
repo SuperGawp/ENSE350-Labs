{
 "cells": [
  {
   "cell_type": "markdown",
   "metadata": {},
   "source": [
    "<center>\n",
    "\n",
    "## ENSE 350 – Math Programming for Software Engineers - Laboratory\n",
    "\n",
    "# Lab 2: GCD and Pulverizer\n",
    "\n",
    "### University of Regina\n",
    "### Faculty of Engineering and Applied Science - Software Systems Engineering\n",
    "### Lab Instructor: [Adam Tilson](mailto:Adam.Tilson@uregina.ca)\n",
    "\n",
    "</center>"
   ]
  },
  {
   "cell_type": "markdown",
   "metadata": {},
   "source": [
    "## Introdcution\n",
    "\n",
    "In this lab we will play a bit in python, to get you more familiar with the language, as well as thinking about factors. We will approach some problems with a poor solution (i.e. brute-force), before employing more clever ways to approach the problem, which you will implement in the lab assignment.\n",
    "\n",
    "## Part 1: Quick Python Review\n",
    "\n",
    "Let's do a quick review of some elements of Python which will be useful in this lab - functions, loops and lists"
   ]
  },
  {
   "cell_type": "markdown",
   "metadata": {},
   "source": [
    "Write code which prints out all odd numbers from `22` to `33`, inclusive:"
   ]
  },
  {
   "cell_type": "code",
   "execution_count": null,
   "metadata": {},
   "outputs": [],
   "source": []
  },
  {
   "cell_type": "markdown",
   "metadata": {},
   "source": [
    "Write a function which prints out all odd numbers from `n` to `m`, inclusive:"
   ]
  },
  {
   "cell_type": "code",
   "execution_count": null,
   "metadata": {},
   "outputs": [],
   "source": []
  },
  {
   "cell_type": "code",
   "execution_count": null,
   "metadata": {},
   "outputs": [],
   "source": []
  },
  {
   "cell_type": "markdown",
   "metadata": {},
   "source": [
    "Write a function called `get_list_of_odds(n, m)` which returns a list of odd numbers between n and m, inclusive:"
   ]
  },
  {
   "cell_type": "code",
   "execution_count": null,
   "metadata": {},
   "outputs": [],
   "source": []
  },
  {
   "cell_type": "markdown",
   "metadata": {},
   "source": [
    "Using the function created, get the list of odds from `22` to `33`, inclusive:"
   ]
  },
  {
   "cell_type": "code",
   "execution_count": null,
   "metadata": {},
   "outputs": [],
   "source": []
  },
  {
   "cell_type": "markdown",
   "metadata": {},
   "source": [
    "## Part 2: Factors\n",
    "\n",
    "Let's look at some math and examples of factors:\n",
    "\n",
    "Consider the number `333`. Using python, create a list which contains all of the factors of this number:"
   ]
  },
  {
   "cell_type": "code",
   "execution_count": null,
   "metadata": {},
   "outputs": [],
   "source": []
  },
  {
   "cell_type": "markdown",
   "metadata": {},
   "source": [
    "Consider the number `3034`. Using python, create a list which contains all of the factors of this number:"
   ]
  },
  {
   "cell_type": "code",
   "execution_count": null,
   "metadata": {},
   "outputs": [],
   "source": []
  },
  {
   "cell_type": "markdown",
   "metadata": {},
   "source": [
    "What is the largest factor in common between `333` and `3034` (also known as the Greatest Common Divisor, or GCD)?"
   ]
  },
  {
   "cell_type": "code",
   "execution_count": null,
   "metadata": {},
   "outputs": [],
   "source": []
  },
  {
   "cell_type": "markdown",
   "metadata": {},
   "source": [
    "Create a function called `get_list_of_factors(a)` which returns the a list of factors of a number, `a`"
   ]
  },
  {
   "cell_type": "code",
   "execution_count": null,
   "metadata": {},
   "outputs": [],
   "source": []
  },
  {
   "cell_type": "code",
   "execution_count": null,
   "metadata": {},
   "outputs": [],
   "source": []
  },
  {
   "cell_type": "markdown",
   "metadata": {},
   "source": [
    "Create a function called `get_largest_number_in_both_lists(list_a, list_b)` which finds the largest number which exists in both lists:"
   ]
  },
  {
   "cell_type": "code",
   "execution_count": null,
   "metadata": {},
   "outputs": [],
   "source": []
  },
  {
   "cell_type": "markdown",
   "metadata": {},
   "source": [
    "# Part 3: The GCD (Poor Solution)"
   ]
  },
  {
   "cell_type": "markdown",
   "metadata": {},
   "source": [
    "Using the functions created so far, create a function called `brute_force_gcd(a,b)` which computes the gcd between `a` and `b` by brute force"
   ]
  },
  {
   "cell_type": "code",
   "execution_count": null,
   "metadata": {},
   "outputs": [],
   "source": []
  },
  {
   "cell_type": "markdown",
   "metadata": {},
   "source": [
    "Compute the GCD between `333` and `3034`:"
   ]
  },
  {
   "cell_type": "code",
   "execution_count": null,
   "metadata": {},
   "outputs": [],
   "source": []
  },
  {
   "cell_type": "markdown",
   "metadata": {},
   "source": [
    "Estimate how many lines of code ran to figure out this GCD:"
   ]
  },
  {
   "cell_type": "code",
   "execution_count": null,
   "metadata": {},
   "outputs": [],
   "source": []
  },
  {
   "cell_type": "markdown",
   "metadata": {},
   "source": [
    "Estimate how many lines of code if we ran this, for, say `51324` and `123457`"
   ]
  },
  {
   "cell_type": "code",
   "execution_count": null,
   "metadata": {},
   "outputs": [],
   "source": []
  },
  {
   "cell_type": "markdown",
   "metadata": {},
   "source": [
    "Cool, that seems pretty bad!"
   ]
  },
  {
   "cell_type": "markdown",
   "metadata": {},
   "source": [
    "What would that factor be?"
   ]
  },
  {
   "cell_type": "code",
   "execution_count": null,
   "metadata": {},
   "outputs": [],
   "source": []
  },
  {
   "cell_type": "markdown",
   "metadata": {},
   "source": [
    "When the greatest common factor between two numbers is `1`, those numbers are called `relatively prime`."
   ]
  },
  {
   "cell_type": "markdown",
   "metadata": {},
   "source": [
    "## Part 4: The GCD (A Better Approach)"
   ]
  },
  {
   "cell_type": "markdown",
   "metadata": {},
   "source": [
    "We have seen our brute force algorithm is not great, especially for larger numbers. What else can we do?\n",
    "\n",
    "Enter the `Euclidean Algorithm`:\n",
    "\n",
    "```\n",
    "    gcd(a,b) = gcd(b, a%b)\n",
    "```\n",
    "\n",
    "Where `a%b` is the reminder when `a` is divided by `b`\n",
    "\n",
    "This algorithm has an approximate runtime of $O(log_2(n))$"
   ]
  },
  {
   "cell_type": "markdown",
   "metadata": {},
   "source": [
    "Using the brute-force method we previously implemented, find the GCD between `899` and `493`?"
   ]
  },
  {
   "cell_type": "code",
   "execution_count": null,
   "metadata": {},
   "outputs": [],
   "source": []
  },
  {
   "cell_type": "markdown",
   "metadata": {},
   "source": [
    "Verify this result is correct by applying the Euclidean Algorithm"
   ]
  },
  {
   "cell_type": "markdown",
   "metadata": {},
   "source": [
    "### Use this cell to work through the Euclidean Algorithm\n",
    "\n",
    "```\n",
    "gcd (a, b) = gcd (b, a%b)\n",
    "gcd (899, 493) = gcd (493, 406)\n",
    "gcd (493, 406) = gcd (406, 87)\n",
    "gcd (406, 87) = gcd (87, 58)\n",
    "gcd (87, 58) = gcd (58, 29)\n",
    "gcd (58, 29) = gcd (29, 0)\n",
    "STOP\n",
    "```"
   ]
  },
  {
   "cell_type": "code",
   "execution_count": null,
   "metadata": {},
   "outputs": [],
   "source": []
  },
  {
   "cell_type": "markdown",
   "metadata": {},
   "source": [
    "Hint, `gcd (a, 0) = a`, because ALL numbers divide `0`, (i.e. `0 = 0*a`)"
   ]
  },
  {
   "cell_type": "markdown",
   "metadata": {},
   "source": [
    "## Part 5: The GCD (An Extended Approach)"
   ]
  },
  {
   "cell_type": "markdown",
   "metadata": {},
   "source": [
    "Another unique property of the GCD algorithm is that it satisfies the following equation:\n",
    "\n",
    "```\n",
    "    gcd(a,b) = sa + tb\n",
    "```\n",
    "\n",
    "Where `s` and `t` are coefficients, with positive or negative values, that when multiplied by `a` and `b` respectively, then sum together, produce the `gcd` of `a` and `b`.\n",
    "\n",
    "So, with our example of `gcd(899,493)`, we know there exists some `s` and `t` such that:\n",
    "\n",
    "```\n",
    "gcd(899,493) = s * 899 + t * 493\n",
    "29 = s * 899 + t * 493\n",
    "```\n",
    "\n",
    "In the RSA algorithms, which we will see next week, we will see that these residual values are particularly useful.\n",
    "\n",
    "To find these values, we employ the pulverizer. This tabular approach to the GCD keeps track of some intermediate values as we work to discover the final values."
   ]
  },
  {
   "cell_type": "markdown",
   "metadata": {},
   "source": [
    "### Let's do this on the `board`!"
   ]
  },
  {
   "cell_type": "markdown",
   "metadata": {},
   "source": [
    "So from this work, we can see that \n",
    "\n",
    "```\n",
    "gcd(899,493) = s * 899 + t * 493\n",
    "29 = s * 899 + t * 493\n",
    "29 = -6 * 899 + 11 * 493\n",
    "```\n",
    "\n",
    "FAQ:\n",
    "- Why do you use the variables `x` and `y` instead of `a` and `b`?\n",
    "    - I like to use `a` and `b` to represent the original numbers we are attempting to find the GCD of. `x` and `y` change from row to row, but `a` and `b` do not. Recall that in each row we are rewriting the equation in terms of the original `a` and `b`.\n",
    "\n",
    "\n",
    "- How do I program this?\n",
    "    - I find the easiest way to implement is to use represent the table using a list of a built-in python data structures. Which data structure might be useful to keep track of a row of different values, e.g. an `x`, `y`, `quot`, `rem`, `s` and `t`? Try using code to generate only the first row or two of the list, then try to turn it into a looping (or recursive) algorithm. Once the process terminates and the list is generated correctly, then it's simply a matter of returning the correct values from the data structure.\n",
    "    \n",
    "An interesting observation can be made when we look at the relationship between the values in this table. This observation is useful in implementing a highly optimized version of this algorithm, or in getting started with an iterative approach:"
   ]
  }
 ],
 "metadata": {
  "kernelspec": {
   "display_name": "Python 3",
   "language": "python",
   "name": "python3"
  },
  "language_info": {
   "codemirror_mode": {
    "name": "ipython",
    "version": 3
   },
   "file_extension": ".py",
   "mimetype": "text/x-python",
   "name": "python",
   "nbconvert_exporter": "python",
   "pygments_lexer": "ipython3",
   "version": "3.9.7"
  },
  "vscode": {
   "interpreter": {
    "hash": "8100bb27ef6f27bb6b63ba202e13f32f0dffed430e6a4d162d3986e448f218b2"
   }
  }
 },
 "nbformat": 4,
 "nbformat_minor": 2
}
