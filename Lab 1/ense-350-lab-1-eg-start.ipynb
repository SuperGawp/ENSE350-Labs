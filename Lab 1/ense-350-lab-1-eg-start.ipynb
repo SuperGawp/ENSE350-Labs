{
 "cells": [
  {
   "cell_type": "markdown",
   "id": "relevant-anchor",
   "metadata": {},
   "source": [
    "<center>\n",
    "\n",
    "## ENSE 350 - Math Programming for Software Engineers - Laboratory\n",
    "\n",
    "# Lab 1: Introduction to Python\n",
    "\n",
    "### University of Regina\n",
    "### Faculty of Engineering and Applied Science - Software Systems Engineering\n",
    "\n",
    "### Lab Instructor: [Adam Tilson](mailto:Adam.Tilson@uregina.ca)\n",
    "\n",
    "</center>"
   ]
  },
  {
   "cell_type": "markdown",
   "id": "10b3c4fb",
   "metadata": {},
   "source": [
    "### Objective\n",
    "\n",
    "In this laboratory, you will be introduced to the Python programming language, which you will use in all of the labs from this point forward. We will cover the key programming language features that you will need to complete the labs, such as loops, arrays, functions, object-oriented programming and doctests. Additionally, you will also learn about some of the features of the Jupyter Notebook.\n",
    "\n",
    "To get the most benefit from this lab, it is recommended you have a strong foundation in object-oriented programming, data structures and algorithms.\n",
    "\n",
    "### Contents of this directory\n",
    "\n",
    "`ense-350-lab-1-eg-start.ipynb` - This is the example file we will work through together. It is incomplete. You do not need to submit this.\n",
    "\n",
    "`ense-350-lab-1-eg-complete.ipynb` - This is the example file we worked through together, which I completed earlier. The solutions may be slightly different. This is provided for your reference, in case you fall behind when we are working together. You do not need to submit this.\n",
    "\n",
    "`ense-350-lab-1-assn-start.ipynb` - This is the starting code for the lab assignment. Complete this file (ensuring you have general solutions which pass the included tests, but would also pass other tests), and submit this file.\n",
    "\n",
    "Future labs will follow this format."
   ]
  },
  {
   "cell_type": "markdown",
   "id": "dominican-harvey",
   "metadata": {},
   "source": [
    "## Part 1: Jupyter Notebook Basics"
   ]
  },
  {
   "cell_type": "markdown",
   "id": "serial-yahoo",
   "metadata": {},
   "source": [
    "This notebook will introduce you to the basics of using the Jupyter Notebook and the Python 3 programming language. These notebooks will be used to bundle your code and documentation to submit labs for this course.\n",
    "\n",
    "We will work through this notebook together in the lab.\n",
    "\n",
    "[Documentation on Jupyter Notebook](https://jupyter-notebook.readthedocs.io/en/stable/notebook.html?highlight=markdown#markdown-cells)\n",
    "\n",
    "There are two types of cells in the Jupyter Notebook, code cells and markdown cells. This is a markdown cell. It is used to document your code. When this cell is run using shift+enter the markdown language will be rendered in a human-readable fashion.\n",
    "\n",
    "Code cells can run code from a python kernel live in the notebook. The following cell is a code cell. Run it by pressing shift+enter in the cell."
   ]
  },
  {
   "cell_type": "code",
   "execution_count": null,
   "id": "efficient-acting",
   "metadata": {},
   "outputs": [],
   "source": []
  },
  {
   "cell_type": "markdown",
   "id": "canadian-difficulty",
   "metadata": {},
   "source": [
    "Practice using the markdown language in the following cell. Convert the follwing cell from python code to markdown language (Cell -> Cell Type -> Markdown), and using the documentation included in the previous link, provide example code for each of the following:\n",
    "\n",
    "- Heading\n",
    "- Subheading\n",
    "- List with a sublist\n",
    "- a block quote\n",
    "- a table\n",
    "- the latex math formula for pythagoras theorum (centered)"
   ]
  },
  {
   "cell_type": "markdown",
   "id": "polish-saver",
   "metadata": {},
   "source": [
    "#### ---------------- BEGIN SOLUTION CELL ----------------------\n",
    "\n",
    "\n",
    "#### --------------------- END SOLUTION CELL -----------------------"
   ]
  },
  {
   "cell_type": "markdown",
   "id": "public-universal",
   "metadata": {},
   "source": [
    "## Part 2: Basic Data Types in Python\n",
    "\n",
    "This section teaches the basics of data types in python 3. In python 3 the primitive data types are:\n",
    "\n",
    "- numbers: can represent integer, floating point and complex types\n",
    "- strings: represents an ordered set of characters\n",
    "- list: represents a list of values, typically of the same type. Similar to arrays. \n",
    "- tuple: represents an ordered pair of values, not necessary of the same type. Similar to a struct.\n",
    "- dictionary: represents a set of key-value pairs, similar to an associative array or maps. \n",
    "   \n",
    "Variables are not type-declared, the type is determined during the assignment statement.\n",
    "\n",
    "A good overview of the types in Python 3 can be found at the following tutorial: https://www.tutorialspoint.com/python3/python_variable_types.htm"
   ]
  },
  {
   "cell_type": "markdown",
   "id": "secondary-outdoors",
   "metadata": {},
   "source": [
    "### Number\n",
    "\n",
    "The number type can represent integer, float and complex types. Try to declare some of these in the following cells:"
   ]
  },
  {
   "cell_type": "code",
   "execution_count": null,
   "id": "decimal-mississippi",
   "metadata": {},
   "outputs": [],
   "source": [
    "# Set the variable float_third to one third\n"
   ]
  },
  {
   "cell_type": "code",
   "execution_count": null,
   "id": "mature-authentication",
   "metadata": {},
   "outputs": [],
   "source": [
    "# Set the variables quotient and remainder to the quotient and remainder of 17 divided by 5, respectively\n",
    "\n",
    "# in one shot!\n"
   ]
  },
  {
   "cell_type": "code",
   "execution_count": null,
   "id": "specific-noise",
   "metadata": {},
   "outputs": [],
   "source": [
    "# Set the variable integer_hundred to one hundred"
   ]
  },
  {
   "cell_type": "markdown",
   "id": "robust-somerset",
   "metadata": {},
   "source": [
    "### String\n",
    "\n",
    "The string type contains an ordered list of characters. Three useful string operators are concatenation (+), repition (\\*) and slice ( [] or [ : ]). Using these functions try to solve the following problems:"
   ]
  },
  {
   "cell_type": "code",
   "execution_count": null,
   "id": "qualified-gossip",
   "metadata": {},
   "outputs": [],
   "source": [
    "# Set the variable strings hello and world to say \"hello \" and \"world\", \n",
    "# respectively, and set string helloworld to the concatenation of the two\n"
   ]
  },
  {
   "cell_type": "code",
   "execution_count": null,
   "id": "imposed-columbia",
   "metadata": {},
   "outputs": [],
   "source": [
    "# Set the variable hello_5 to say \"hello\" repeated five times with spaces.\n"
   ]
  },
  {
   "cell_type": "code",
   "execution_count": null,
   "id": "premium-voice",
   "metadata": {},
   "outputs": [],
   "source": [
    "# Set hello_slice to say \"lo wo\" by using a slice operation on string_hp\n"
   ]
  },
  {
   "cell_type": "markdown",
   "id": "junior-librarian",
   "metadata": {},
   "source": [
    "### Lists\n",
    "\n",
    "Lists are the data structure in python that corresponds with arrays in c-like languages. \n",
    "\n",
    "   - contain a number of indexable members\n",
    "   - typically used for homogenous data types\n",
    "   - declared using the [] symbol\n",
    "   - have operators to be used as stacks, queues\n",
    "   \n",
    "More information on lists can be found at: https://www.tutorialspoint.com/python3/python_lists.htm\n",
    "   \n",
    "Try to initialize the following lists:"
   ]
  },
  {
   "cell_type": "code",
   "execution_count": null,
   "id": "delayed-edmonton",
   "metadata": {},
   "outputs": [],
   "source": [
    "# Create a list named new_list with number 1, 3, and 7\n"
   ]
  },
  {
   "cell_type": "code",
   "execution_count": null,
   "id": "divided-engineer",
   "metadata": {},
   "outputs": [],
   "source": [
    "# create an empty list named second_list, and then push on 3, 4 and 5 to the end, and then 2, 1 to the start\n"
   ]
  },
  {
   "cell_type": "code",
   "execution_count": null,
   "id": "headed-gospel",
   "metadata": {},
   "outputs": [],
   "source": [
    "# try calling dir on list \n"
   ]
  },
  {
   "cell_type": "code",
   "execution_count": null,
   "id": "cardiovascular-style",
   "metadata": {},
   "outputs": [],
   "source": [
    "# get some help on insert\n"
   ]
  },
  {
   "cell_type": "code",
   "execution_count": null,
   "id": "elementary-infrared",
   "metadata": {},
   "outputs": [],
   "source": [
    "# get some help on append\n"
   ]
  },
  {
   "cell_type": "code",
   "execution_count": null,
   "id": "therapeutic-ownership",
   "metadata": {},
   "outputs": [],
   "source": [
    "# Add the elements to the list in the order 3, 4, 5, 2, 1, so that they show [1, 2, 3, 4, 5] \n"
   ]
  },
  {
   "cell_type": "code",
   "execution_count": null,
   "id": "solid-projection",
   "metadata": {},
   "outputs": [],
   "source": [
    "# Modify the 3rd element\n"
   ]
  },
  {
   "cell_type": "code",
   "execution_count": null,
   "id": "respiratory-champion",
   "metadata": {},
   "outputs": [],
   "source": [
    "# Get the 3rd element\n"
   ]
  },
  {
   "cell_type": "markdown",
   "id": "chief-billion",
   "metadata": {},
   "source": [
    "In python, you can also create multi-dimensional lists. This would correspond to 2D (or more) arrays. We create these in python by nesting lists inside of lists:"
   ]
  },
  {
   "cell_type": "code",
   "execution_count": null,
   "id": "alternative-greek",
   "metadata": {},
   "outputs": [],
   "source": [
    "# create a 2d list with 3 rows and 3 columns\n"
   ]
  },
  {
   "cell_type": "code",
   "execution_count": null,
   "id": "spiritual-worst",
   "metadata": {},
   "outputs": [],
   "source": [
    "#Modify the element in the second row, second column to 9\n"
   ]
  },
  {
   "cell_type": "markdown",
   "id": "athletic-diamond",
   "metadata": {},
   "source": [
    "### Tuples\n",
    "\n",
    "Tuples are a data type corresponding to an ordered pair (or more) of variable values. Some properties of this data type: \n",
    "   \n",
    "   - The tuple  can be of any length. \n",
    "   - The values in tuples may be of any type. (similar to c structs)\n",
    "   - Tuples can be used to return multiple values from a function\n",
    "   - Unlike lists, tuples are immutable\n",
    "   \n",
    "More information on tuples can be found at: https://www.tutorialspoint.com/python3/python_tuples.htm\n",
    "\n",
    "Try to initialize the following tuples:"
   ]
  },
  {
   "cell_type": "code",
   "execution_count": null,
   "id": "existing-projector",
   "metadata": {},
   "outputs": [],
   "source": [
    "# Set tuple_t to be the numbers 1, the string \"hi\" and a list with values 1, 2, 3.\n"
   ]
  },
  {
   "cell_type": "markdown",
   "id": "recognized-project",
   "metadata": {},
   "source": [
    "### Dictionary\n",
    "\n",
    "Dictionaries are a data type which maps a key to a value. \n",
    "\n",
    "More information on the Dictionary type can be found at: https://www.tutorialspoint.com/python3/python_dictionary.htm\n",
    "\n",
    "Try to intialize the following dictionary:"
   ]
  },
  {
   "cell_type": "code",
   "execution_count": null,
   "id": "superb-expression",
   "metadata": {},
   "outputs": [],
   "source": [
    "# Set dict_d to contain the keys \"a\",\"b\",\"c\" to contain the \n",
    "#     values \"aqua\", \"blue\", \"cyan\"\n"
   ]
  },
  {
   "cell_type": "code",
   "execution_count": null,
   "id": "miniature-sellers",
   "metadata": {},
   "outputs": [],
   "source": [
    "# modify the element at 'a' to alizarin, 'b' to burgand, 'c' to crimson\n"
   ]
  },
  {
   "cell_type": "code",
   "execution_count": null,
   "id": "junior-isaac",
   "metadata": {},
   "outputs": [],
   "source": [
    "# read the value at 'c'\n"
   ]
  },
  {
   "cell_type": "markdown",
   "id": "spiritual-cattle",
   "metadata": {},
   "source": [
    "## Part 3: Branching and Looping in Python\n",
    "\n",
    "This section teaches the basics of branching and looping in python. In particular, in this section, you will:\n",
    "   \n",
    "   - create a multi-way branch\n",
    "   - loop in a for-loop fashion \n",
    "   - loop in a for-each loop fashion\n",
    "\n",
    "You can review the syntax of these functions at:\n",
    "\n",
    "https://www.tutorialspoint.com/python3/python_if_else.htm\n",
    "\n",
    "https://www.tutorialspoint.com/python3/python_loops.htm\n",
    "\n",
    "\n",
    "### Branching\n",
    "\n",
    "An example of a branching decision in python is:\n",
    "\n",
    "    if x == 3:\n",
    "        print (\"x is 3\")\n",
    "    elif x == 4:\n",
    "        print (\"x is 4\")\n",
    "    else:\n",
    "        print (\"x is not 3 or 4\")\n",
    "        \n",
    "Key syntax differences from c-like languages are:\n",
    "   \n",
    "   - conditions may optionally be encapsulated in parenthesis\n",
    "   - colons (:) appear at the end of conditions\n",
    "   - the keyword \"elif\" is used in place of \"else if\"\n",
    "   - indentation is required"
   ]
  },
  {
   "cell_type": "code",
   "execution_count": null,
   "id": "constitutional-identifier",
   "metadata": {},
   "outputs": [],
   "source": [
    "# Exercise:\n",
    "# Write a block of code which checks if variable x is the square of any of the numbers 1...9. \n",
    "# If so, print out which number it is a square of.\n",
    "# If not, print \"the number is not a square of 1...9\"\n",
    "# Try to think of a pythonic way of writing this code, eg. using some of the data structures described\n",
    "# hint: try using dictionaries!\n",
    "\n",
    "#SOLUTION\n"
   ]
  },
  {
   "cell_type": "markdown",
   "id": "indoor-buffer",
   "metadata": {},
   "source": [
    "### Looping\n",
    "\n",
    "There are two type of looping mechanisms in python, while loops and for loops.\n",
    "\n",
    "   - while loops act as they do in c\n",
    "   - for loops are based on for-each loops\n",
    "       - if you wish to do a do an iterative for loop, you must loop over a range"
   ]
  },
  {
   "cell_type": "code",
   "execution_count": null,
   "id": "persistent-purple",
   "metadata": {},
   "outputs": [],
   "source": [
    "# Exercise\n",
    "# Create the list [1, 2, 3, 4, 5, 6]\n",
    "# Using a while loop, print out the entire list, one entry per line\n",
    "# How can you determine stopping conditions?\n"
   ]
  },
  {
   "cell_type": "code",
   "execution_count": null,
   "id": "pending-devon",
   "metadata": {},
   "outputs": [],
   "source": []
  },
  {
   "cell_type": "code",
   "execution_count": null,
   "id": "modern-syntax",
   "metadata": {},
   "outputs": [],
   "source": [
    "# Exercise\n",
    "# Loop over the list [ [1, 2, 3, 4], [5, 6, 7, 8], [9, 10, 11, 12]] using range-based for loops\n",
    "# For each element in the list, add 1 to it\n"
   ]
  },
  {
   "cell_type": "code",
   "execution_count": null,
   "id": "genetic-spiritual",
   "metadata": {},
   "outputs": [],
   "source": [
    "# Exercise\n",
    "# Loop over the list [ [1, 2, 3, 4], [5, 6, 7, 8], [9, 10, 11, 12]] using for...in type and print out each entry\n"
   ]
  },
  {
   "cell_type": "code",
   "execution_count": null,
   "id": "amazing-belfast",
   "metadata": {},
   "outputs": [],
   "source": [
    "# Exercise\n",
    "# Loop over the list [ [1, 2, 3, 4], [5, 6, 7, 8], [9, 10, 11, 12]] using for...in type and attempt\n",
    "#    to increment each element by 1, then print the entire list. Did you achieve your goal?\n"
   ]
  },
  {
   "cell_type": "code",
   "execution_count": null,
   "id": "federal-camera",
   "metadata": {},
   "outputs": [],
   "source": [
    "# Exercise\n",
    "# Perform the same exercise using the for loop structure:\n"
   ]
  },
  {
   "cell_type": "markdown",
   "id": "loose-recording",
   "metadata": {},
   "source": [
    "## Part 4: Functions\n",
    "\n",
    "As with most programming languages, python gives the ability to create functions which can then be reused. Functions may optionally:\n",
    "\n",
    "   - take zero or more arguments of any type\n",
    "   - return zero or more values of any type\n",
    "\n",
    "In python all variables are passed by reference. \n",
    "\n",
    "The basic syntax is as follows:\n",
    "\n",
    "        def <function_name> ( <parameters> ):\n",
    "           <function_operations>\n",
    "           return <value(s)>\n",
    "\n",
    "Because python does not check for the types of the variables going in or out of the function, more care must be taken by the developer to ensure proper usage. A tradeoff to this is that all functions can be considered template functions which work on many types as long as the operations performed are properly defined.\n",
    "\n",
    "A good overview of functions can be found here: https://www.tutorialspoint.com/python3/python_functions.htm"
   ]
  },
  {
   "cell_type": "code",
   "execution_count": null,
   "id": "separate-sunglasses",
   "metadata": {},
   "outputs": [],
   "source": [
    "# Write a function called sum_of_two_values which adds them together and returns the output.\n",
    "# Try running this function on two numbers, two strings and two equal length lists.\n",
    "\n",
    "#Solution\n"
   ]
  },
  {
   "cell_type": "markdown",
   "id": "harmful-italian",
   "metadata": {},
   "source": [
    "A feature of python is that functions can return multiple return values, with the results stored in a tuple:"
   ]
  },
  {
   "cell_type": "code",
   "execution_count": null,
   "id": "isolated-longer",
   "metadata": {},
   "outputs": [],
   "source": [
    "# Write a function called sum_and_product which which takes two numbers, and returns both the sum and the product\n",
    "\n",
    "#Solution\n"
   ]
  },
  {
   "cell_type": "markdown",
   "id": "isolated-freedom",
   "metadata": {},
   "source": [
    "## Part 4: DocTests\n",
    "\n",
    "We can optionally test our function using doctests, which embed unit tests in the function comments. These tests simulate the results of running the function from the command line, and check that the output matches what is expected.\n",
    "```py\n",
    "import doctest\n",
    "doctest.testmod()\n",
    "```"
   ]
  },
  {
   "cell_type": "code",
   "execution_count": null,
   "id": "enormous-functionality",
   "metadata": {},
   "outputs": [],
   "source": [
    "# Write a function called factorial which takes a single integer and computes the factorial of that number recursively\n",
    "\n",
    "#solution\n",
    "def factorial (val):\n",
    "    \"\"\"Return the factorial of val, a positive integer >= 1.\n",
    "    \"\"\"\n",
    "    accumulator = 1\n",
    "    while (val > 1):\n",
    "        accumulator *= val\n",
    "        val -= 1\n",
    "    return accumulator\n",
    "\n",
    "import doctest\n",
    "doctest.testmod()"
   ]
  },
  {
   "cell_type": "markdown",
   "id": "little-neighbor",
   "metadata": {},
   "source": [
    "Note: the testmod() function will rerun all of the TestResults you've run so far. If you only want to test a particular class, we will see a method to do this later, however, it does not print a report unless failure occurs."
   ]
  },
  {
   "cell_type": "markdown",
   "id": "enhanced-evaluation",
   "metadata": {},
   "source": [
    "## Part 5: Object-Oriented Programming\n",
    "\n",
    "Python supports object-oriented programming by means of classes. However, not all features are supported as in other languages, such as data hiding, and the syntax is very different than c-like languages. Let's look at a simple class:"
   ]
  },
  {
   "cell_type": "code",
   "execution_count": null,
   "id": "waiting-botswana",
   "metadata": {},
   "outputs": [],
   "source": [
    "# A simple class in Python\n"
   ]
  },
  {
   "cell_type": "code",
   "execution_count": null,
   "id": "institutional-optimization",
   "metadata": {},
   "outputs": [],
   "source": [
    "# An instance of that class\n"
   ]
  },
  {
   "cell_type": "markdown",
   "id": "italic-reach",
   "metadata": {},
   "source": [
    "## Part 6: Errors and Putting It All Together\n",
    "\n",
    "Let's attempt to put it all together by making a class which includes a doctest. This class represents a set of data in one dimension. We can compute mean, median and mode:"
   ]
  },
  {
   "cell_type": "code",
   "execution_count": null,
   "id": "computational-capture",
   "metadata": {},
   "outputs": [],
   "source": [
    "class Statistics1V:\n",
    "    \"\"\"Represents a single-variable list of data\n",
    "    Your DocTests Here!\n",
    "    \"\"\"\n",
    "    # Your code here!\n",
    "    pass\n",
    "        \n",
    "import doctest\n",
    "doctest.run_docstring_examples(Statistics1V, globals())"
   ]
  }
 ],
 "metadata": {
  "kernelspec": {
   "display_name": "Python 3",
   "language": "python",
   "name": "python3"
  },
  "language_info": {
   "codemirror_mode": {
    "name": "ipython",
    "version": 3
   },
   "file_extension": ".py",
   "mimetype": "text/x-python",
   "name": "python",
   "nbconvert_exporter": "python",
   "pygments_lexer": "ipython3",
   "version": "3.10.8 (tags/v3.10.8:aaaf517, Oct 11 2022, 16:50:30) [MSC v.1933 64 bit (AMD64)]"
  },
  "vscode": {
   "interpreter": {
    "hash": "369f2c481f4da34e4445cda3fffd2e751bd1c4d706f27375911949ba6bb62e1c"
   }
  }
 },
 "nbformat": 4,
 "nbformat_minor": 5
}
