{
 "cells": [
  {
   "cell_type": "markdown",
   "id": "relevant-anchor",
   "metadata": {},
   "source": [
    "<center>\n",
    "\n",
    "## ENSE 350 - Math Programming for Software Engineers - Laboratory\n",
    "\n",
    "# Lab 1: Introduction to Python\n",
    "\n",
    "### University of Regina\n",
    "### Faculty of Engineering and Applied Science - Software Systems Engineering\n",
    "\n",
    "### Lab Instructor: [Adam Tilson](mailto:Adam.Tilson@uregina.ca)\n",
    "\n",
    "</center>"
   ]
  },
  {
   "attachments": {},
   "cell_type": "markdown",
   "id": "driven-relationship",
   "metadata": {},
   "source": [
    "### Your Name: Aryan Chandra\n",
    "### SID: 200461690"
   ]
  },
  {
   "cell_type": "markdown",
   "id": "dominican-harvey",
   "metadata": {},
   "source": [
    "## Part 1: Jupyter Notebook Basics\n",
    "\n",
    "( 10 marks )"
   ]
  },
  {
   "cell_type": "markdown",
   "id": "serial-yahoo",
   "metadata": {},
   "source": [
    "a) Have the following cell print out `Hello Python` to the screen"
   ]
  },
  {
   "cell_type": "code",
   "execution_count": 19,
   "id": "efficient-acting",
   "metadata": {},
   "outputs": [
    {
     "name": "stdout",
     "output_type": "stream",
     "text": [
      "Hello Python\n"
     ]
    }
   ],
   "source": [
    "print(\"Hello Python\")"
   ]
  },
  {
   "cell_type": "markdown",
   "id": "canadian-difficulty",
   "metadata": {},
   "source": [
    "b) Using markdown, write the formula for the area of a circle:\n",
    "\n",
    "(hint, search for how to write `pi` in LaTeX - this will work in jupyter formulas which use MathJax)"
   ]
  },
  {
   "attachments": {},
   "cell_type": "markdown",
   "id": "polish-saver",
   "metadata": {},
   "source": [
    "#### ---------------- BEGIN SOLUTION CELL ----------------------\n",
    "\n",
    "$A = \\pi r^2$\n",
    "\n",
    "#### --------------------- END SOLUTION CELL -----------------------"
   ]
  },
  {
   "cell_type": "markdown",
   "id": "public-universal",
   "metadata": {},
   "source": [
    "## Part 2: Data Types in Python\n",
    "\n",
    "(10 marks)"
   ]
  },
  {
   "cell_type": "markdown",
   "id": "secondary-outdoors",
   "metadata": {},
   "source": [
    "a) Create a dictionary in python which contains the prices per kilograms for each vegetable\n",
    "- Use the vegetable name as the `key`\n",
    "- Use the price per kilogram as the `value`\n",
    "\n",
    "|vegetable|price|\n",
    "|---|---|\n",
    "|potato|1.50|\n",
    "|carrot|3.95|\n",
    "|pea|4.40|\n"
   ]
  },
  {
   "cell_type": "code",
   "execution_count": 2,
   "id": "decimal-mississippi",
   "metadata": {},
   "outputs": [],
   "source": [
    "vegetablesPrice = {\"potato\":1.50, \"carrot\":3.95, \"pea\":4.40}"
   ]
  },
  {
   "cell_type": "markdown",
   "id": "revised-greensboro",
   "metadata": {},
   "source": [
    "Look up the price for carrots in your dictionary:"
   ]
  },
  {
   "cell_type": "code",
   "execution_count": 3,
   "id": "specific-noise",
   "metadata": {},
   "outputs": [
    {
     "name": "stdout",
     "output_type": "stream",
     "text": [
      "Carrot:  3.95\n"
     ]
    }
   ],
   "source": [
    "print(\"Carrot: \", vegetablesPrice[\"carrot\"])"
   ]
  },
  {
   "cell_type": "markdown",
   "id": "chief-billion",
   "metadata": {},
   "source": [
    "b) Create a list of coordinates, represented as a list of tuples. It should include the following x and y values:\n",
    "\n",
    "|x|y|\n",
    "|---|---|\n",
    "|3|4|\n",
    "|2|1|\n",
    "|7|6|\n",
    "|2|5|"
   ]
  },
  {
   "cell_type": "code",
   "execution_count": 21,
   "id": "alternative-greek",
   "metadata": {},
   "outputs": [
    {
     "name": "stdout",
     "output_type": "stream",
     "text": [
      "[(3, 4), (2, 1), (7, 6), (2, 5)]\n"
     ]
    }
   ],
   "source": [
    "cordsTuple = [(3, 4), (2, 1), (7, 6), (2,5)]"
   ]
  },
  {
   "cell_type": "markdown",
   "id": "irish-advantage",
   "metadata": {},
   "source": [
    "Print out the 3rd element of the list:"
   ]
  },
  {
   "cell_type": "code",
   "execution_count": 22,
   "id": "junior-isaac",
   "metadata": {},
   "outputs": [
    {
     "name": "stdout",
     "output_type": "stream",
     "text": [
      "(7, 6)\n"
     ]
    }
   ],
   "source": [
    "print(cordsTuple[2])"
   ]
  },
  {
   "cell_type": "markdown",
   "id": "spiritual-cattle",
   "metadata": {},
   "source": [
    "## Part 3: Branching and Looping in Python\n",
    "\n",
    "(20 marks)\n",
    "\n",
    "a) Using the list of coordinates created in 2(b), convert it to two separate lists, one of all `x` coordinates and one of all `y` coordinates. Only loop over the list of coordinates once:"
   ]
  },
  {
   "cell_type": "code",
   "execution_count": 50,
   "id": "constitutional-identifier",
   "metadata": {},
   "outputs": [],
   "source": [
    "xCords = []\n",
    "yCords = []\n",
    "\n",
    "for x in range(len(cordsTuple)):\n",
    "    xCords.append(cordsTuple[x][0])\n",
    "    yCords.append(cordsTuple[x][1])"
   ]
  },
  {
   "cell_type": "markdown",
   "id": "empty-childhood",
   "metadata": {},
   "source": [
    "Print out the two lists:"
   ]
  },
  {
   "cell_type": "code",
   "execution_count": 51,
   "id": "prostate-chinese",
   "metadata": {},
   "outputs": [
    {
     "name": "stdout",
     "output_type": "stream",
     "text": [
      "[3, 2, 7, 2] [4, 1, 6, 5]\n"
     ]
    }
   ],
   "source": [
    "print(xCords, yCords)"
   ]
  },
  {
   "cell_type": "markdown",
   "id": "indoor-buffer",
   "metadata": {},
   "source": [
    "b) Using one or more loops, create a 10 x 20 2-d list where the value is equal to the sum of the row and column indices. For example, at location `[3][4]` the value should be `7`."
   ]
  },
  {
   "cell_type": "code",
   "execution_count": 35,
   "id": "offshore-dubai",
   "metadata": {},
   "outputs": [],
   "source": [
    "matrixSum = [[0] * 20 for i in range(10)]\n",
    "for i in range(10):\n",
    "    for j in range(20):\n",
    "        matrixSum[i][j] = i + j\n"
   ]
  },
  {
   "cell_type": "markdown",
   "id": "incident-boring",
   "metadata": {},
   "source": [
    "c) Using one or more loops, modify the array in (b) such that, if the sum of the row and column indicies are odd, the value is made negative, if the sum of the row and the column indicies are even, the value remains positive."
   ]
  },
  {
   "cell_type": "code",
   "execution_count": 36,
   "id": "banner-patrick",
   "metadata": {},
   "outputs": [],
   "source": [
    "matrixSum = [[0] * 20 for i in range(10)]\n",
    "for i in range(10):\n",
    "    for j in range(20):\n",
    "        sum = i + j\n",
    "        if sum % 2 != 0:\n",
    "            sum = -sum\n",
    "        \n",
    "        matrixSum[i][j] = sum\n",
    "\n"
   ]
  },
  {
   "cell_type": "markdown",
   "id": "quiet-figure",
   "metadata": {},
   "source": [
    "Using one or more loops, print the matrix generated in 3(c) so that each row is on an individual line:"
   ]
  },
  {
   "cell_type": "code",
   "execution_count": 37,
   "id": "acknowledged-assurance",
   "metadata": {},
   "outputs": [
    {
     "name": "stdout",
     "output_type": "stream",
     "text": [
      "[0, -1, 2, -3, 4, -5, 6, -7, 8, -9, 10, -11, 12, -13, 14, -15, 16, -17, 18, -19]\n",
      "[-1, 2, -3, 4, -5, 6, -7, 8, -9, 10, -11, 12, -13, 14, -15, 16, -17, 18, -19, 20]\n",
      "[2, -3, 4, -5, 6, -7, 8, -9, 10, -11, 12, -13, 14, -15, 16, -17, 18, -19, 20, -21]\n",
      "[-3, 4, -5, 6, -7, 8, -9, 10, -11, 12, -13, 14, -15, 16, -17, 18, -19, 20, -21, 22]\n",
      "[4, -5, 6, -7, 8, -9, 10, -11, 12, -13, 14, -15, 16, -17, 18, -19, 20, -21, 22, -23]\n",
      "[-5, 6, -7, 8, -9, 10, -11, 12, -13, 14, -15, 16, -17, 18, -19, 20, -21, 22, -23, 24]\n",
      "[6, -7, 8, -9, 10, -11, 12, -13, 14, -15, 16, -17, 18, -19, 20, -21, 22, -23, 24, -25]\n",
      "[-7, 8, -9, 10, -11, 12, -13, 14, -15, 16, -17, 18, -19, 20, -21, 22, -23, 24, -25, 26]\n",
      "[8, -9, 10, -11, 12, -13, 14, -15, 16, -17, 18, -19, 20, -21, 22, -23, 24, -25, 26, -27]\n",
      "[-9, 10, -11, 12, -13, 14, -15, 16, -17, 18, -19, 20, -21, 22, -23, 24, -25, 26, -27, 28]\n"
     ]
    }
   ],
   "source": [
    "for i in range(10):\n",
    "    print(matrixSum[i])\n"
   ]
  },
  {
   "cell_type": "markdown",
   "id": "loose-recording",
   "metadata": {},
   "source": [
    "## Part 4: Functions and DocTests\n",
    "\n",
    "(15 marks)\n"
   ]
  },
  {
   "cell_type": "markdown",
   "id": "recognized-student",
   "metadata": {},
   "source": [
    "a) Write a function called transpose, which takes a 2d matrix, represented by a 2D list, and returns a matrix with the rows and the columns interchanged. Assume that all rows will have the same number of elements, and write a function which will work for any number of rows.\n",
    "\n",
    "e.g. when given the input:\n",
    "```\n",
    "[ [1, 2, 3]\n",
    "  [4, 5, 6] ]\n",
    "```\n",
    "\n",
    "it should return:\n",
    "\n",
    "```\n",
    "[ [1, 4]\n",
    "  [2, 5]\n",
    "  [3, 6] ]\n",
    "```"
   ]
  },
  {
   "cell_type": "code",
   "execution_count": 57,
   "id": "joint-bargain",
   "metadata": {},
   "outputs": [],
   "source": [
    "def transpose (m):\n",
    "    ''' returns a transposed matrix of m\n",
    "    >>> transpose ([ [1,2,3], [4,5,6] ])\n",
    "    [[1, 4], [2, 5], [3, 6]]\n",
    "    '''\n",
    "    # your code here!\n",
    "    matrixSum = [[0] * (len(m)) for i in range((len(m[0])))]\n",
    "    for i in range(len(m[0])):\n",
    "        for j in range(len(m)):\n",
    "            matrixSum[i][j] = m[j][i]\n",
    "\n",
    "    pass\n",
    "    return matrixSum\n",
    "\n",
    "import doctest\n",
    "doctest.run_docstring_examples(transpose, globals())"
   ]
  },
  {
   "cell_type": "markdown",
   "id": "medieval-senate",
   "metadata": {},
   "source": [
    "b) Write doctests for the following function which computes the manhattan distance between two points. This is the shortest distance between two points, when constrained by being only able to move vertically or horizontally. Test at least three conditions: 0 distance apart, 2 units apart, and 1.5 units apart. "
   ]
  },
  {
   "cell_type": "code",
   "execution_count": 94,
   "id": "labeled-chemical",
   "metadata": {},
   "outputs": [],
   "source": [
    "def manhattan( point_1, point_2 ):\n",
    "    '''returns the manhattan distance between two points\n",
    "    your doctests here!\n",
    "    >>> manhattan( (0,0), (0,0) )\n",
    "    0\n",
    "    >>> manhattan( (2,2), (1.5,0.5) )\n",
    "    2.0\n",
    "    >>> manhattan( (1.5,1.5), (1.5,0) )\n",
    "    1.5\n",
    "    '''\n",
    "    return abs(point_1[0]-point_2[0]) + abs(point_1[1]-point_2[1])\n",
    "\n",
    "import doctest\n",
    "doctest.run_docstring_examples(manhattan, globals())"
   ]
  },
  {
   "cell_type": "markdown",
   "id": "related-legislation",
   "metadata": {},
   "source": [
    "c) Write a function called print `interpolate_midpoints`, which, given a list of values, will return a new list of values containing the original values, but also the midpoint between each adjacent pair of points added:\n",
    "\n",
    "e.g.\n",
    "\n",
    "```\n",
    "[1, 2, 4, 5, 8, 10]\n",
    "```\n",
    "\n",
    "returns\n",
    "\n",
    "```\n",
    "[1, 1.5, 2, 3.0, 4, 4.5, 5, 6.5, 8, 9.0, 10]\n",
    "```"
   ]
  },
  {
   "cell_type": "code",
   "execution_count": 105,
   "id": "choice-video",
   "metadata": {},
   "outputs": [],
   "source": [
    "def interpolate_midpoints ( list_of_points ): \n",
    "    \"\"\"given a list of numeric values, returns a list of values including\n",
    "    those values, and also the midpoints between each pair of values inserted in:\n",
    "    >>> interpolate_midpoints ( [1, 2, 4, 5, 8, 10] )\n",
    "    [1, 1.5, 2, 3.0, 4, 4.5, 5, 6.5, 8, 9.0, 10]\n",
    "    \"\"\"\n",
    "    # your code here!\n",
    "    result = []\n",
    "    for i in range(len(list_of_points) - 1):\n",
    "        result.append(list_of_points[i])\n",
    "        result.append((list_of_points[i] + list_of_points[i + 1]) / 2)\n",
    "    result.append(list_of_points[-1])\n",
    "\n",
    "    pass\n",
    "    return result\n",
    "import doctest\n",
    "doctest.run_docstring_examples(interpolate_midpoints, globals())"
   ]
  },
  {
   "cell_type": "markdown",
   "id": "isolated-freedom",
   "metadata": {},
   "source": [
    "## Part 5: Object-Oriented Programming\n",
    "\n",
    "(45 marks)\n",
    "\n",
    "a) The following class, which represents a game store, has been partially completed for you:\n",
    "\n",
    "|function|use|\n",
    "|:--|:--|\n",
    "|`__init__(store_name, game_dictionary)`|Create a store with a given name, |\n",
    "|`set_name(store_name)`|sets the store name as string `name`|\n",
    "|`get_name(): string`|returns the store name as a `string`|\n",
    "|`check_if_store_has_game(game_name): bool`|returns `True` if the store has the game, and `False` if it does not.|\n",
    "|`get_price(game_name): float`|returns the price of the game, if the store contains it, or `float(\"NaN\")` if it doesn't.|\n",
    "|`add_game(game_name, price)`|adds a game to the store. If the game already exists in the store, return a `ValueError`|\n",
    "|`set_price(game_name, price)`|sets the price of a game to the game. If the game does not exist in the store, return an `KeyError`|\n",
    "\n",
    "Write doctests for each of the functions. Test at least one success condition and one error condition for each function. If through testing you discover any functionality which is missing, implement it!"
   ]
  },
  {
   "cell_type": "code",
   "execution_count": 106,
   "id": "about-banner",
   "metadata": {},
   "outputs": [
    {
     "ename": "OSError",
     "evalue": "source code not available",
     "output_type": "error",
     "traceback": [
      "\u001b[1;31m---------------------------------------------------------------------------\u001b[0m",
      "\u001b[1;31mOSError\u001b[0m                                   Traceback (most recent call last)",
      "Cell \u001b[1;32mIn[106], line 32\u001b[0m\n\u001b[0;32m     29\u001b[0m             \u001b[39mraise\u001b[39;00m \u001b[39mKeyError\u001b[39;00m (\u001b[39m\"\u001b[39m\u001b[39mThe game does not exist in this store\u001b[39m\u001b[39m\"\u001b[39m)\n\u001b[0;32m     31\u001b[0m \u001b[39mimport\u001b[39;00m \u001b[39mdoctest\u001b[39;00m\n\u001b[1;32m---> 32\u001b[0m doctest\u001b[39m.\u001b[39;49mrun_docstring_examples(GameStore, \u001b[39mglobals\u001b[39;49m())\n",
      "File \u001b[1;32mc:\\Python310\\lib\\doctest.py:2125\u001b[0m, in \u001b[0;36mrun_docstring_examples\u001b[1;34m(f, globs, verbose, name, compileflags, optionflags)\u001b[0m\n\u001b[0;32m   2123\u001b[0m finder \u001b[39m=\u001b[39m DocTestFinder(verbose\u001b[39m=\u001b[39mverbose, recurse\u001b[39m=\u001b[39m\u001b[39mFalse\u001b[39;00m)\n\u001b[0;32m   2124\u001b[0m runner \u001b[39m=\u001b[39m DocTestRunner(verbose\u001b[39m=\u001b[39mverbose, optionflags\u001b[39m=\u001b[39moptionflags)\n\u001b[1;32m-> 2125\u001b[0m \u001b[39mfor\u001b[39;00m test \u001b[39min\u001b[39;00m finder\u001b[39m.\u001b[39;49mfind(f, name, globs\u001b[39m=\u001b[39;49mglobs):\n\u001b[0;32m   2126\u001b[0m     runner\u001b[39m.\u001b[39mrun(test, compileflags\u001b[39m=\u001b[39mcompileflags)\n",
      "File \u001b[1;32mc:\\Python310\\lib\\doctest.py:901\u001b[0m, in \u001b[0;36mDocTestFinder.find\u001b[1;34m(self, obj, name, module, globs, extraglobs)\u001b[0m\n\u001b[0;32m    897\u001b[0m \u001b[39m# Read the module's source code.  This is used by\u001b[39;00m\n\u001b[0;32m    898\u001b[0m \u001b[39m# DocTestFinder._find_lineno to find the line number for a\u001b[39;00m\n\u001b[0;32m    899\u001b[0m \u001b[39m# given object's docstring.\u001b[39;00m\n\u001b[0;32m    900\u001b[0m \u001b[39mtry\u001b[39;00m:\n\u001b[1;32m--> 901\u001b[0m     file \u001b[39m=\u001b[39m inspect\u001b[39m.\u001b[39;49mgetsourcefile(obj)\n\u001b[0;32m    902\u001b[0m \u001b[39mexcept\u001b[39;00m \u001b[39mTypeError\u001b[39;00m:\n\u001b[0;32m    903\u001b[0m     source_lines \u001b[39m=\u001b[39m \u001b[39mNone\u001b[39;00m\n",
      "File \u001b[1;32mc:\\Python310\\lib\\inspect.py:817\u001b[0m, in \u001b[0;36mgetsourcefile\u001b[1;34m(object)\u001b[0m\n\u001b[0;32m    813\u001b[0m \u001b[39mdef\u001b[39;00m \u001b[39mgetsourcefile\u001b[39m(\u001b[39mobject\u001b[39m):\n\u001b[0;32m    814\u001b[0m \u001b[39m    \u001b[39m\u001b[39m\"\"\"Return the filename that can be used to locate an object's source.\u001b[39;00m\n\u001b[0;32m    815\u001b[0m \u001b[39m    Return None if no way can be identified to get the source.\u001b[39;00m\n\u001b[0;32m    816\u001b[0m \u001b[39m    \"\"\"\u001b[39;00m\n\u001b[1;32m--> 817\u001b[0m     filename \u001b[39m=\u001b[39m getfile(\u001b[39mobject\u001b[39;49m)\n\u001b[0;32m    818\u001b[0m     all_bytecode_suffixes \u001b[39m=\u001b[39m importlib\u001b[39m.\u001b[39mmachinery\u001b[39m.\u001b[39mDEBUG_BYTECODE_SUFFIXES[:]\n\u001b[0;32m    819\u001b[0m     all_bytecode_suffixes \u001b[39m+\u001b[39m\u001b[39m=\u001b[39m importlib\u001b[39m.\u001b[39mmachinery\u001b[39m.\u001b[39mOPTIMIZED_BYTECODE_SUFFIXES[:]\n",
      "File \u001b[1;32mc:\\Python310\\lib\\inspect.py:785\u001b[0m, in \u001b[0;36mgetfile\u001b[1;34m(object)\u001b[0m\n\u001b[0;32m    783\u001b[0m             \u001b[39mreturn\u001b[39;00m module\u001b[39m.\u001b[39m\u001b[39m__file__\u001b[39m\n\u001b[0;32m    784\u001b[0m         \u001b[39mif\u001b[39;00m \u001b[39mobject\u001b[39m\u001b[39m.\u001b[39m\u001b[39m__module__\u001b[39m \u001b[39m==\u001b[39m \u001b[39m'\u001b[39m\u001b[39m__main__\u001b[39m\u001b[39m'\u001b[39m:\n\u001b[1;32m--> 785\u001b[0m             \u001b[39mraise\u001b[39;00m \u001b[39mOSError\u001b[39;00m(\u001b[39m'\u001b[39m\u001b[39msource code not available\u001b[39m\u001b[39m'\u001b[39m)\n\u001b[0;32m    786\u001b[0m     \u001b[39mraise\u001b[39;00m \u001b[39mTypeError\u001b[39;00m(\u001b[39m'\u001b[39m\u001b[39m{!r}\u001b[39;00m\u001b[39m is a built-in class\u001b[39m\u001b[39m'\u001b[39m\u001b[39m.\u001b[39mformat(\u001b[39mobject\u001b[39m))\n\u001b[0;32m    787\u001b[0m \u001b[39mif\u001b[39;00m ismethod(\u001b[39mobject\u001b[39m):\n",
      "\u001b[1;31mOSError\u001b[0m: source code not available"
     ]
    }
   ],
   "source": [
    "class GameStore:\n",
    "    \"\"\"Represents a Store. A Store has a requires and a dictionary of games.\n",
    "    Your DocTests Here!\n",
    "    >>> store = GameStore\n",
    "    \"\"\"\n",
    "    def __init__(self, name, game_dictionary):\n",
    "        self.name = name\n",
    "        self.game_dictionary = game_dictionary\n",
    "    \n",
    "    def set_name(self, name):\n",
    "        self.name = name\n",
    "    \n",
    "    def get_name(self):\n",
    "        return self.name\n",
    "    \n",
    "    def check_if_store_has_game(self, game_name):\n",
    "        return game_name in self.game_dictionary\n",
    "    \n",
    "    def get_price(self, game_name):\n",
    "        return self.game_dictionary[game_name]\n",
    "    \n",
    "    def add_game(self, game_name, price):\n",
    "        self.game_dictionary[game_name] = price\n",
    "    \n",
    "    def set_price (self, game_name, price):\n",
    "        if game_name in self.game_dictionary:\n",
    "            self.game_dictionary[game_name] = price\n",
    "        else:\n",
    "            raise KeyError (\"The game does not exist in this store\")\n",
    "\n",
    "import doctest\n",
    "doctest.run_docstring_examples(GameStore, globals())"
   ]
  },
  {
   "cell_type": "markdown",
   "id": "fantastic-bumper",
   "metadata": {},
   "source": [
    "b) Write a function called `cheaper_store (store_a, store_b, game_name)` which takes two `GameStore`s defined in the previous cell, as well as a `game_name`, and returns the name of the store where `game_name` is cheaper. If only one store contains the game, return the name of the store which contains that game. If neither store contains the game, return a `KeyError` with the message `\"Neither store contains the game\"`. If both stores contain the game, and the game is the same price, return the name of Store A.\n",
    "\n",
    "Additionally, In the doctests, create two stores, with some games, and test all six possibilities:\n",
    "- only store A contains the game\n",
    "- only store B contains the game\n",
    "- neither store contains the game\n",
    "- both stores have the game and store A is cheaper\n",
    "- both stores have the game and store B is cheaper\n",
    "- both stores have the game and they are the same price\n"
   ]
  },
  {
   "cell_type": "code",
   "execution_count": null,
   "id": "cellular-excess",
   "metadata": {},
   "outputs": [],
   "source": [
    "def cheaper_store (store_a, store_b, game_name):\n",
    "    \"\"\"Checks which store has the game for cheaper\n",
    "    Your DocTests here!\n",
    "    \"\"\"\n",
    "    # your code here!\n",
    "    pass\n",
    "\n",
    "import doctest\n",
    "doctest.run_docstring_examples(cheaper_store, globals())"
   ]
  },
  {
   "cell_type": "markdown",
   "id": "hawaiian-nutrition",
   "metadata": {},
   "source": [
    "c) Create a class called `Statistics2V` which represents a dataset where each point is represent by two variables. These will be passed to the class as a list of tuples (pairs), but may be stored internally however you would like. Include the following functions:\n",
    "\n",
    "|function|use|\n",
    "|:--|:--|\n",
    "|`__init__(data_as_a_list)`|constructor. Takes a list of tuples (pairs), where every tuples contains ints and/or floats)|\n",
    "|`print_data()`|prints out the dataset with each tuple on a new line|\n",
    "|`get_n(): int`|retuns the number of samples in the dataset|\n",
    "|`get_sum_x(): int or float`|returns the sum of all of the first coordinates in the dataset|\n",
    "|`get_sum_y(): int or float`|returns the sum of all of the second coordinates in the dataset|\n",
    "|`get_mean_x(): float`|returns the arithmetic mean of all of the first coordinates in the dataset|\n",
    "|`get_mean_y(): float`|returns the arithmetic mean of all of the second coordinates in the dataset|\n",
    "\n",
    "Hint: remember to include `self` where appropriate!\n",
    "\n",
    "The DocTests for this function have been provided for you - you may wish to try Test Driven Development!"
   ]
  },
  {
   "cell_type": "code",
   "execution_count": null,
   "id": "frozen-pharmacy",
   "metadata": {},
   "outputs": [],
   "source": [
    "class Statistics2V:\n",
    "    \"\"\"Represents a data set where each point has two variables.\n",
    "    Throws errors if the supplied parameters are illegal.\n",
    "    \n",
    "    >>> data_incorrect_1 = Statistics2V(3)\n",
    "    Traceback (most recent call last):\n",
    "        ...\n",
    "    TypeError: The data supplied must be a list\n",
    "    \n",
    "    >>> data_incorrect_2 = Statistics2V([])\n",
    "    Traceback (most recent call last):\n",
    "        ...\n",
    "    TypeError: The data list must not be empty\n",
    "    \n",
    "    >>> data_incorrect_3 = Statistics2V([(1, 2), (\"wrong\", 3)])\n",
    "    Traceback (most recent call last):\n",
    "        ...\n",
    "    TypeError: The data supplied must be only tuples (pairs) of ints or floats\n",
    " \n",
    "    >>> data_incorrect_4 = Statistics2V([(1, 2, 3), (1, 3)])\n",
    "    Traceback (most recent call last):\n",
    "        ...\n",
    "    TypeError: The data supplied must be only tuples (pairs) of ints or floats\n",
    "    \n",
    "    >>> data_incorrect_5 = Statistics2V([[1, 2], (1, 3)])\n",
    "    Traceback (most recent call last):\n",
    "        ...\n",
    "    TypeError: The data supplied must be only tuples (pairs) of ints or floats\n",
    " \n",
    "    >>> data_correct = Statistics2V([(1, 2), (3.0, 4), (5, 6.0), (7.0, 8.0)])\n",
    "    >>> data_correct.print_data()\n",
    "    (1, 2)\n",
    "    (3.0, 4)\n",
    "    (5, 6.0)\n",
    "    (7.0, 8.0)\n",
    "    \n",
    "    >>> data_correct.get_n()\n",
    "    4\n",
    "    \n",
    "    >>> data_correct.get_sum_x()\n",
    "    16.0\n",
    "    \n",
    "    >>> data_correct.get_sum_y()\n",
    "    20.0\n",
    "        \n",
    "    >>> data_correct.get_mean_x()\n",
    "    4.0\n",
    "    \n",
    "    >>> data_correct.get_mean_y()\n",
    "    5.0\n",
    "        \n",
    "    \"\"\"\n",
    "    # Your code here!\n",
    "    pass\n",
    "        \n",
    "import doctest\n",
    "doctest.run_docstring_examples(Statistics2V, globals())"
   ]
  }
 ],
 "metadata": {
  "kernelspec": {
   "display_name": "Python 3",
   "language": "python",
   "name": "python3"
  },
  "language_info": {
   "codemirror_mode": {
    "name": "ipython",
    "version": 3
   },
   "file_extension": ".py",
   "mimetype": "text/x-python",
   "name": "python",
   "nbconvert_exporter": "python",
   "pygments_lexer": "ipython3",
   "version": "3.10.8"
  },
  "vscode": {
   "interpreter": {
    "hash": "369f2c481f4da34e4445cda3fffd2e751bd1c4d706f27375911949ba6bb62e1c"
   }
  }
 },
 "nbformat": 4,
 "nbformat_minor": 5
}
